{
 "cells": [
  {
   "cell_type": "code",
   "execution_count": 0,
   "metadata": {
    "application/vnd.databricks.v1+cell": {
     "cellMetadata": {
      "byteLimit": 2048000,
      "rowLimit": 10000
     },
     "inputWidgets": {},
     "nuid": "94c711a3-4d4a-4e17-b1c3-92549ae8809a",
     "showTitle": false,
     "tableResultSettingsMap": {},
     "title": ""
    }
   },
   "outputs": [
    {
     "output_type": "stream",
     "name": "stdout",
     "output_type": "stream",
     "text": [
      "root\n |-- bookid: integer (nullable = true)\n |-- facid: integer (nullable = true)\n |-- memid: integer (nullable = true)\n |-- starttime: timestamp (nullable = true)\n |-- slots: integer (nullable = true)\n\n"
     ]
    }
   ],
   "source": [
    "from pyspark.sql.types import StructType, StructField, IntegerType, TimestampType\n",
    "\n",
    "file_location = \"/FileStore/tables/bookings.csv\"\n",
    "\n",
    "df = spark.read.format(\"csv\").option(\"header\", \"true\").option(\"inferSchema\", \"true\").load(file_location)\n",
    "\n",
    "df.printSchema()"
   ]
  },
  {
   "cell_type": "code",
   "execution_count": 0,
   "metadata": {
    "application/vnd.databricks.v1+cell": {
     "cellMetadata": {
      "byteLimit": 2048000,
      "rowLimit": 10000
     },
     "inputWidgets": {},
     "nuid": "5e609308-3f60-4355-bb00-5121b868a0f2",
     "showTitle": false,
     "tableResultSettingsMap": {},
     "title": ""
    }
   },
   "outputs": [],
   "source": [
    "schema = StructType([\n",
    "    StructField(\"bookid\", IntegerType(), True),\n",
    "    StructField(\"facid\", IntegerType(), True),\n",
    "    StructField(\"memid\", IntegerType(), True),\n",
    "    StructField(\"starttime\", TimestampType(), True),\n",
    "    StructField(\"slots\", IntegerType(), True)\n",
    "])\n",
    "\n",
    "df = spark.read.format(\"csv\").option(\"header\", \"true\").schema(schema).load(file_location)\n",
    "\n",
    "df.write.mode(\"overwrite\").saveAsTable(\"bookings\")"
   ]
  },
  {
   "cell_type": "code",
   "execution_count": 0,
   "metadata": {
    "application/vnd.databricks.v1+cell": {
     "cellMetadata": {
      "byteLimit": 2048000,
      "rowLimit": 10000
     },
     "inputWidgets": {},
     "nuid": "148dc3ae-4739-4a47-8d10-839f64cebd2d",
     "showTitle": false,
     "tableResultSettingsMap": {},
     "title": ""
    }
   },
   "outputs": [],
   "source": [
    "from pyspark.sql.types import StringType, DecimalType\n",
    "\n",
    "facilities_csv = \"/FileStore/tables/facilities.csv\"\n",
    "\n",
    "schema = StructType([\n",
    "    StructField(\"facid\", IntegerType(), False),\n",
    "    StructField(\"name\", StringType(), False),\n",
    "    StructField(\"membercost\", DecimalType(10, 2), False),\n",
    "    StructField(\"guestcost\", DecimalType(10, 2), False),\n",
    "    StructField(\"initialoutlay\", DecimalType(10, 2), False),\n",
    "    StructField(\"monthlymaintenance\", DecimalType(10, 2), False)\n",
    "])\n",
    "\n",
    "df = spark.read.format(\"csv\").option(\"header\", \"true\").schema(schema).load(facilities_csv)\n",
    "\n",
    "df.write.mode(\"overwrite\").saveAsTable(\"facilities\")"
   ]
  },
  {
   "cell_type": "code",
   "execution_count": 0,
   "metadata": {
    "application/vnd.databricks.v1+cell": {
     "cellMetadata": {
      "byteLimit": 2048000,
      "rowLimit": 10000
     },
     "inputWidgets": {},
     "nuid": "51424268-4a72-4be1-a39c-508e3cc3a77d",
     "showTitle": false,
     "tableResultSettingsMap": {},
     "title": ""
    }
   },
   "outputs": [],
   "source": [
    "members_csv = \"/FileStore/tables/members.csv\"\n",
    "\n",
    "schema = StructType([\n",
    "    StructField(\"memid\", IntegerType(), False),\n",
    "    StructField(\"surname\", StringType(), False),\n",
    "    StructField(\"firstname\", StringType(), False),\n",
    "    StructField(\"address\", StringType(), False),\n",
    "    StructField(\"zipcode\", IntegerType(), False),\n",
    "    StructField(\"telephone\", StringType(), False),\n",
    "    StructField(\"recommendedBy\", IntegerType(), True),\n",
    "    StructField(\"joindate\", TimestampType(), False)\n",
    "])\n",
    "\n",
    "df = spark.read.format(\"csv\").option(\"header\", \"true\").schema(schema).load(members_csv)\n",
    "\n",
    "df.write.mode(\"overwrite\").saveAsTable(\"members\")"
   ]
  }
 ],
 "metadata": {
  "application/vnd.databricks.v1+notebook": {
   "computePreferences": null,
   "dashboards": [],
   "environmentMetadata": {
    "base_environment": "",
    "environment_version": "1"
   },
   "inputWidgetPreferences": null,
   "language": "python",
   "notebookMetadata": {
    "pythonIndentUnit": 4
   },
   "notebookName": "Pgexercises 2025-03-11 12:00:08",
   "widgets": {}
  }
 },
 "nbformat": 4,
 "nbformat_minor": 0
}
