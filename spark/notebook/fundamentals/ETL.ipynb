{
 "cells": [
  {
   "cell_type": "markdown",
   "metadata": {
    "application/vnd.databricks.v1+cell": {
     "cellMetadata": {
      "byteLimit": 2048000,
      "rowLimit": 10000
     },
     "inputWidgets": {},
     "nuid": "d6eddb1d-74cc-49ea-bb67-5ecfa76e9a6b",
     "showTitle": false,
     "tableResultSettingsMap": {},
     "title": ""
    }
   },
   "source": [
    "## ETL Job One: Parquet file"
   ]
  },
  {
   "cell_type": "code",
   "execution_count": 0,
   "metadata": {
    "application/vnd.databricks.v1+cell": {
     "cellMetadata": {
      "byteLimit": 2048000,
      "rowLimit": 10000
     },
     "collapsed": true,
     "inputWidgets": {},
     "nuid": "df250990-efa4-4035-af61-4ddcd808357b",
     "showTitle": false,
     "tableResultSettingsMap": {},
     "title": ""
    }
   },
   "outputs": [],
   "source": [
    "from pyspark.sql.types import DateType\n",
    "from pyspark.sql.functions import *\n",
    "\n",
    "bookings = spark.sql(\"SELECT * FROM bookings\")\n",
    "facilities = spark.sql(\"SELECT * FROM facilities\")\n",
    "\n",
    "res = facilities.join(bookings.withColumn(\"startdate\", bookings.starttime.cast(DateType())), facilities.facid == bookings.facid).filter(col(\"startdate\") >= \"2012-09-01\").filter(col(\"startdate\") < \"2012-10-01\").groupBy(facilities.facid).sum(\"slots\").withColumnRenamed(\"sum(slots)\",\"Total Slots\").orderBy(\"Total Slots\")\n",
    "\n",
    "res.write.mode(\"overwrite\").parquet(\"output/jobone\")"
   ]
  },
  {
   "cell_type": "markdown",
   "metadata": {
    "application/vnd.databricks.v1+cell": {
     "cellMetadata": {
      "byteLimit": 2048000,
      "rowLimit": 10000
     },
     "inputWidgets": {},
     "nuid": "95e86c96-107c-4cde-a55a-16645ef6490a",
     "showTitle": false,
     "tableResultSettingsMap": {},
     "title": ""
    }
   },
   "source": [
    "## ETL Job Two: Partitions"
   ]
  },
  {
   "cell_type": "code",
   "execution_count": 0,
   "metadata": {
    "application/vnd.databricks.v1+cell": {
     "cellMetadata": {
      "byteLimit": 2048000,
      "rowLimit": 10000
     },
     "inputWidgets": {},
     "nuid": "26aed29b-f08b-4f03-a9f7-fcde19c6815f",
     "showTitle": false,
     "tableResultSettingsMap": {},
     "title": ""
    }
   },
   "outputs": [
    {
     "output_type": "display_data",
     "data": {
      "text/plain": [
       ""
      ]
     },
     "metadata": {
      "application/vnd.databricks.v1+output": {
       "arguments": {},
       "data": "",
       "errorSummary": "Command skipped",
       "errorTraceType": "ansi",
       "metadata": {},
       "type": "ipynbError"
      }
     },
     "output_type": "display_data"
    }
   ],
   "source": [
    "from pyspark.sql.functions import *\n",
    "\n",
    "bookings = spark.sql(\"SELECT * FROM bookings\")\n",
    "members = spark.sql(\"SELECT * FROM members\")\n",
    "facilities = spark.sql(\"SELECT * FROM facilities\")\n",
    "\n",
    "res = members.join(bookings, members.memid == bookings.memid).join(facilities, bookings.facid == facilities.facid).filter(col(\"name\").rlike(\"Tennis Court\")).withColumn(\"member\", concat(\"firstname\", lit(\" \"), \"surname\")).withColumnRenamed(\"name\", \"facility\").select(\"member\", \"facility\").distinct().orderBy(\"member\", \"facility\")\n",
    "\n",
    "res.write.mode(\"overwrite\").partitionBy(\"facility\").saveAsTable(\"threejoin_delta\")"
   ]
  },
  {
   "cell_type": "markdown",
   "metadata": {
    "application/vnd.databricks.v1+cell": {
     "cellMetadata": {
      "byteLimit": 2048000,
      "rowLimit": 10000
     },
     "inputWidgets": {},
     "nuid": "4becb02f-f9af-4cbd-89a4-50e5785ed9f1",
     "showTitle": false,
     "tableResultSettingsMap": {},
     "title": ""
    }
   },
   "source": [
    "## ETL Job Three: HTTP Requests"
   ]
  },
  {
   "cell_type": "code",
   "execution_count": 0,
   "metadata": {
    "application/vnd.databricks.v1+cell": {
     "cellMetadata": {
      "byteLimit": 2048000,
      "rowLimit": 10000
     },
     "inputWidgets": {},
     "nuid": "4f6e2278-e6b1-4d53-a08a-90cee581497d",
     "showTitle": false,
     "tableResultSettingsMap": {},
     "title": ""
    }
   },
   "outputs": [
    {
     "output_type": "display_data",
     "data": {
      "text/html": [
       "<style scoped>\n",
       "  .table-result-container {\n",
       "    max-height: 300px;\n",
       "    overflow: auto;\n",
       "  }\n",
       "  table, th, td {\n",
       "    border: 1px solid black;\n",
       "    border-collapse: collapse;\n",
       "  }\n",
       "  th, td {\n",
       "    padding: 5px;\n",
       "  }\n",
       "  th {\n",
       "    text-align: left;\n",
       "  }\n",
       "</style><div class='table-result-container'><table class='table-result'><thead style='background-color: white'><tr><th>company</th><th>week</th><th>weekly_max_close</th></tr></thead><tbody><tr><td>GOOG</td><td>11</td><td>169.0000</td></tr><tr><td>GOOG</td><td>45</td><td>182.2800</td></tr><tr><td>GOOG</td><td>44</td><td>176.1400</td></tr><tr><td>GOOG</td><td>3</td><td>197.5500</td></tr><tr><td>GOOG</td><td>46</td><td>183.3200</td></tr><tr><td>GOOG</td><td>1</td><td>193.1300</td></tr><tr><td>GOOG</td><td>9</td><td>181.1900</td></tr><tr><td>GOOG</td><td>48</td><td>170.8200</td></tr><tr><td>GOOG</td><td>12</td><td>166.5700</td></tr><tr><td>GOOG</td><td>43</td><td>166.9900</td></tr><tr><td>GOOG</td><td>4</td><td>201.9000</td></tr><tr><td>GOOG</td><td>6</td><td>207.7100</td></tr><tr><td>GOOG</td><td>5</td><td>205.6000</td></tr><tr><td>GOOG</td><td>49</td><td>176.4900</td></tr><tr><td>GOOG</td><td>2</td><td>197.9600</td></tr><tr><td>GOOG</td><td>52</td><td>197.5700</td></tr><tr><td>GOOG</td><td>47</td><td>179.5800</td></tr><tr><td>GOOG</td><td>10</td><td>175.7500</td></tr><tr><td>GOOG</td><td>50</td><td>196.7100</td></tr><tr><td>GOOG</td><td>7</td><td>188.2000</td></tr><tr><td>GOOG</td><td>8</td><td>187.1300</td></tr><tr><td>GOOG</td><td>51</td><td>198.1600</td></tr><tr><td>AAPL</td><td>7</td><td>244.6000</td></tr><tr><td>AAPL</td><td>6</td><td>233.2200</td></tr><tr><td>AAPL</td><td>47</td><td>229.8700</td></tr><tr><td>AAPL</td><td>44</td><td>233.6700</td></tr><tr><td>AAPL</td><td>52</td><td>259.0200</td></tr><tr><td>AAPL</td><td>5</td><td>239.3600</td></tr><tr><td>AAPL</td><td>9</td><td>247.1000</td></tr><tr><td>AAPL</td><td>12</td><td>214.0000</td></tr><tr><td>AAPL</td><td>2</td><td>245.0000</td></tr><tr><td>AAPL</td><td>43</td><td>236.4800</td></tr><tr><td>AAPL</td><td>45</td><td>227.4800</td></tr><tr><td>AAPL</td><td>51</td><td>254.4900</td></tr><tr><td>AAPL</td><td>50</td><td>248.1300</td></tr><tr><td>AAPL</td><td>8</td><td>245.8300</td></tr><tr><td>AAPL</td><td>10</td><td>239.0700</td></tr><tr><td>AAPL</td><td>4</td><td>223.8300</td></tr><tr><td>AAPL</td><td>49</td><td>243.0400</td></tr><tr><td>AAPL</td><td>46</td><td>228.2200</td></tr><tr><td>AAPL</td><td>3</td><td>237.8700</td></tr><tr><td>AAPL</td><td>48</td><td>237.3300</td></tr><tr><td>AAPL</td><td>1</td><td>252.2000</td></tr><tr><td>AAPL</td><td>11</td><td>227.4800</td></tr><tr><td>MSFT</td><td>9</td><td>404.0000</td></tr><tr><td>MSFT</td><td>7</td><td>412.2200</td></tr><tr><td>MSFT</td><td>2</td><td>427.8500</td></tr><tr><td>MSFT</td><td>49</td><td>443.5700</td></tr><tr><td>MSFT</td><td>8</td><td>416.1300</td></tr><tr><td>MSFT</td><td>3</td><td>429.0300</td></tr><tr><td>MSFT</td><td>52</td><td>439.3300</td></tr><tr><td>MSFT</td><td>48</td><td>427.9900</td></tr><tr><td>MSFT</td><td>6</td><td>415.8200</td></tr><tr><td>MSFT</td><td>44</td><td>432.5300</td></tr><tr><td>MSFT</td><td>10</td><td>401.0200</td></tr><tr><td>MSFT</td><td>5</td><td>447.2000</td></tr><tr><td>MSFT</td><td>50</td><td>449.5600</td></tr><tr><td>MSFT</td><td>12</td><td>388.7000</td></tr><tr><td>MSFT</td><td>11</td><td>388.5600</td></tr><tr><td>MSFT</td><td>51</td><td>454.4600</td></tr><tr><td>MSFT</td><td>1</td><td>424.8300</td></tr><tr><td>MSFT</td><td>46</td><td>426.8900</td></tr><tr><td>MSFT</td><td>43</td><td>428.1500</td></tr><tr><td>MSFT</td><td>47</td><td>417.7900</td></tr><tr><td>MSFT</td><td>45</td><td>425.4300</td></tr><tr><td>MSFT</td><td>4</td><td>446.7100</td></tr><tr><td>TSLA</td><td>51</td><td>479.8600</td></tr><tr><td>TSLA</td><td>7</td><td>355.9400</td></tr><tr><td>TSLA</td><td>44</td><td>262.5100</td></tr><tr><td>TSLA</td><td>3</td><td>428.2200</td></tr><tr><td>TSLA</td><td>2</td><td>411.0500</td></tr><tr><td>TSLA</td><td>49</td><td>389.2200</td></tr><tr><td>TSLA</td><td>47</td><td>352.5600</td></tr><tr><td>TSLA</td><td>12</td><td>238.0100</td></tr><tr><td>TSLA</td><td>50</td><td>436.2300</td></tr><tr><td>TSLA</td><td>6</td><td>392.2100</td></tr><tr><td>TSLA</td><td>5</td><td>404.6000</td></tr><tr><td>TSLA</td><td>43</td><td>269.1900</td></tr><tr><td>TSLA</td><td>9</td><td>330.5300</td></tr><tr><td>TSLA</td><td>1</td><td>417.4100</td></tr><tr><td>TSLA</td><td>10</td><td>284.6500</td></tr><tr><td>TSLA</td><td>48</td><td>345.1600</td></tr><tr><td>TSLA</td><td>11</td><td>249.9800</td></tr><tr><td>TSLA</td><td>45</td><td>321.2200</td></tr><tr><td>TSLA</td><td>46</td><td>350.0000</td></tr><tr><td>TSLA</td><td>52</td><td>462.2800</td></tr><tr><td>TSLA</td><td>4</td><td>424.0700</td></tr><tr><td>TSLA</td><td>8</td><td>360.5600</td></tr></tbody></table></div>"
      ]
     },
     "metadata": {
      "application/vnd.databricks.v1+output": {
       "addedWidgets": {},
       "aggData": [],
       "aggError": "",
       "aggOverflow": false,
       "aggSchema": [],
       "aggSeriesLimitReached": false,
       "aggType": "",
       "arguments": {},
       "columnCustomDisplayInfos": {},
       "data": [
        [
         "GOOG",
         11,
         "169.0000"
        ],
        [
         "GOOG",
         45,
         "182.2800"
        ],
        [
         "GOOG",
         44,
         "176.1400"
        ],
        [
         "GOOG",
         3,
         "197.5500"
        ],
        [
         "GOOG",
         46,
         "183.3200"
        ],
        [
         "GOOG",
         1,
         "193.1300"
        ],
        [
         "GOOG",
         9,
         "181.1900"
        ],
        [
         "GOOG",
         48,
         "170.8200"
        ],
        [
         "GOOG",
         12,
         "166.5700"
        ],
        [
         "GOOG",
         43,
         "166.9900"
        ],
        [
         "GOOG",
         4,
         "201.9000"
        ],
        [
         "GOOG",
         6,
         "207.7100"
        ],
        [
         "GOOG",
         5,
         "205.6000"
        ],
        [
         "GOOG",
         49,
         "176.4900"
        ],
        [
         "GOOG",
         2,
         "197.9600"
        ],
        [
         "GOOG",
         52,
         "197.5700"
        ],
        [
         "GOOG",
         47,
         "179.5800"
        ],
        [
         "GOOG",
         10,
         "175.7500"
        ],
        [
         "GOOG",
         50,
         "196.7100"
        ],
        [
         "GOOG",
         7,
         "188.2000"
        ],
        [
         "GOOG",
         8,
         "187.1300"
        ],
        [
         "GOOG",
         51,
         "198.1600"
        ],
        [
         "AAPL",
         7,
         "244.6000"
        ],
        [
         "AAPL",
         6,
         "233.2200"
        ],
        [
         "AAPL",
         47,
         "229.8700"
        ],
        [
         "AAPL",
         44,
         "233.6700"
        ],
        [
         "AAPL",
         52,
         "259.0200"
        ],
        [
         "AAPL",
         5,
         "239.3600"
        ],
        [
         "AAPL",
         9,
         "247.1000"
        ],
        [
         "AAPL",
         12,
         "214.0000"
        ],
        [
         "AAPL",
         2,
         "245.0000"
        ],
        [
         "AAPL",
         43,
         "236.4800"
        ],
        [
         "AAPL",
         45,
         "227.4800"
        ],
        [
         "AAPL",
         51,
         "254.4900"
        ],
        [
         "AAPL",
         50,
         "248.1300"
        ],
        [
         "AAPL",
         8,
         "245.8300"
        ],
        [
         "AAPL",
         10,
         "239.0700"
        ],
        [
         "AAPL",
         4,
         "223.8300"
        ],
        [
         "AAPL",
         49,
         "243.0400"
        ],
        [
         "AAPL",
         46,
         "228.2200"
        ],
        [
         "AAPL",
         3,
         "237.8700"
        ],
        [
         "AAPL",
         48,
         "237.3300"
        ],
        [
         "AAPL",
         1,
         "252.2000"
        ],
        [
         "AAPL",
         11,
         "227.4800"
        ],
        [
         "MSFT",
         9,
         "404.0000"
        ],
        [
         "MSFT",
         7,
         "412.2200"
        ],
        [
         "MSFT",
         2,
         "427.8500"
        ],
        [
         "MSFT",
         49,
         "443.5700"
        ],
        [
         "MSFT",
         8,
         "416.1300"
        ],
        [
         "MSFT",
         3,
         "429.0300"
        ],
        [
         "MSFT",
         52,
         "439.3300"
        ],
        [
         "MSFT",
         48,
         "427.9900"
        ],
        [
         "MSFT",
         6,
         "415.8200"
        ],
        [
         "MSFT",
         44,
         "432.5300"
        ],
        [
         "MSFT",
         10,
         "401.0200"
        ],
        [
         "MSFT",
         5,
         "447.2000"
        ],
        [
         "MSFT",
         50,
         "449.5600"
        ],
        [
         "MSFT",
         12,
         "388.7000"
        ],
        [
         "MSFT",
         11,
         "388.5600"
        ],
        [
         "MSFT",
         51,
         "454.4600"
        ],
        [
         "MSFT",
         1,
         "424.8300"
        ],
        [
         "MSFT",
         46,
         "426.8900"
        ],
        [
         "MSFT",
         43,
         "428.1500"
        ],
        [
         "MSFT",
         47,
         "417.7900"
        ],
        [
         "MSFT",
         45,
         "425.4300"
        ],
        [
         "MSFT",
         4,
         "446.7100"
        ],
        [
         "TSLA",
         51,
         "479.8600"
        ],
        [
         "TSLA",
         7,
         "355.9400"
        ],
        [
         "TSLA",
         44,
         "262.5100"
        ],
        [
         "TSLA",
         3,
         "428.2200"
        ],
        [
         "TSLA",
         2,
         "411.0500"
        ],
        [
         "TSLA",
         49,
         "389.2200"
        ],
        [
         "TSLA",
         47,
         "352.5600"
        ],
        [
         "TSLA",
         12,
         "238.0100"
        ],
        [
         "TSLA",
         50,
         "436.2300"
        ],
        [
         "TSLA",
         6,
         "392.2100"
        ],
        [
         "TSLA",
         5,
         "404.6000"
        ],
        [
         "TSLA",
         43,
         "269.1900"
        ],
        [
         "TSLA",
         9,
         "330.5300"
        ],
        [
         "TSLA",
         1,
         "417.4100"
        ],
        [
         "TSLA",
         10,
         "284.6500"
        ],
        [
         "TSLA",
         48,
         "345.1600"
        ],
        [
         "TSLA",
         11,
         "249.9800"
        ],
        [
         "TSLA",
         45,
         "321.2200"
        ],
        [
         "TSLA",
         46,
         "350.0000"
        ],
        [
         "TSLA",
         52,
         "462.2800"
        ],
        [
         "TSLA",
         4,
         "424.0700"
        ],
        [
         "TSLA",
         8,
         "360.5600"
        ]
       ],
       "datasetInfos": [],
       "dbfsResultPath": null,
       "isJsonSchema": true,
       "metadata": {},
       "overflow": false,
       "plotOptions": {
        "customPlotOptions": {},
        "displayType": "table",
        "pivotAggregation": null,
        "pivotColumns": null,
        "xColumns": null,
        "yColumns": null
       },
       "removedWidgets": [],
       "schema": [
        {
         "metadata": "{}",
         "name": "company",
         "type": "\"string\""
        },
        {
         "metadata": "{}",
         "name": "week",
         "type": "\"integer\""
        },
        {
         "metadata": "{}",
         "name": "weekly_max_close",
         "type": "\"decimal(10,4)\""
        }
       ],
       "type": "table"
      }
     },
     "output_type": "display_data"
    }
   ],
   "source": [
    "import requests\n",
    "from pyspark.sql.types import StructType, StructField, DecimalType, DateType, LongType\n",
    "from time import sleep\n",
    "from pyspark.sql.functions import *\n",
    "\n",
    "symbols = [\"GOOG\", \"AAPL\", \"MSFT\", \"TSLA\"]\n",
    "\n",
    "url = \"https://alpha-vantage.p.rapidapi.com/query\"\n",
    "\n",
    "querystring = {\n",
    "    \"function\": \"TIME_SERIES_DAILY\",\n",
    "    \"datatype\": \"json\",\n",
    "    \"outputsize\": \"compact\"\n",
    "}\n",
    "\n",
    "headers = {\n",
    "    \"X-RapidAPI-Host\": \"alpha-vantage.p.rapidapi.com\",\n",
    "    \"X-RapidAPI-Key\": \"changeme\"\n",
    "}\n",
    "\n",
    "all_company_df = None\n",
    "\n",
    "for symbol in symbols:\n",
    "    querystring[\"symbol\"] = symbol\n",
    "    response = requests.get(url, headers=headers, params=querystring)\n",
    "    data = response.json()\n",
    "\n",
    "    df = spark.createDataFrame([data[\"Time Series (Daily)\"]], \"map<string, map<string, string>>\")\n",
    "    df = df.select(explode(col(\"value\")))\n",
    "    df = df.select(\n",
    "        col(\"key\").cast(DateType()).alias(\"date\"),\n",
    "        col(\"value\").getItem(\"1. open\").cast(DecimalType(10, 4)).alias(\"open\"),\n",
    "        col(\"value\").getItem(\"2. high\").cast(DecimalType(10, 4)).alias(\"high\"),\n",
    "        col(\"value\").getItem(\"3. low\").cast(DecimalType(10, 4)).alias(\"low\"),\n",
    "        col(\"value\").getItem(\"4. close\").cast(DecimalType(10, 4)).alias(\"close\"),\n",
    "        col(\"value\").getItem(\"5. volume\").cast(LongType()).alias(\"volume\"),\n",
    ").withColumn(\"company\", lit(symbol))\n",
    "    \n",
    "    if not all_company_df:\n",
    "        all_company_df = df\n",
    "    else:\n",
    "        all_company_df = all_company_df.union(df)\n",
    "    \n",
    "    # avoid hitting API request rate limit\n",
    "    sleep(1)\n",
    "\n",
    "all_company_df = all_company_df.withColumn(\"week\", weekofyear(col(\"date\"))).groupBy(\"company\", \"week\").agg(max(\"close\")).withColumnRenamed(\"max(close)\", \"weekly_max_close\")\n",
    "display(all_company_df)\n",
    "\n",
    "all_company_df.write.mode(\"overwrite\").partitionBy(\"company\").saveAsTable(\"max_closing_price_weekly\")\n"
   ]
  },
  {
   "cell_type": "markdown",
   "metadata": {
    "application/vnd.databricks.v1+cell": {
     "cellMetadata": {},
     "inputWidgets": {},
     "nuid": "74a434e8-a42e-4f05-ba1e-4e57dd5d2363",
     "showTitle": false,
     "tableResultSettingsMap": {},
     "title": ""
    }
   },
   "source": [
    "### Part 1 - Make requests and store raw results"
   ]
  },
  {
   "cell_type": "markdown",
   "metadata": {
    "application/vnd.databricks.v1+cell": {
     "cellMetadata": {},
     "inputWidgets": {},
     "nuid": "ac31ac86-b115-4cf5-8d0c-b67902797d8b",
     "showTitle": false,
     "tableResultSettingsMap": {},
     "title": ""
    }
   },
   "source": [
    "### Part 2 - Transform and load"
   ]
  },
  {
   "cell_type": "code",
   "execution_count": 0,
   "metadata": {
    "application/vnd.databricks.v1+cell": {
     "cellMetadata": {},
     "inputWidgets": {},
     "nuid": "150da1ed-7835-4da0-aad8-c55fd7fbf2a7",
     "showTitle": false,
     "tableResultSettingsMap": {},
     "title": ""
    }
   },
   "outputs": [],
   "source": [
    "\n",
    "from pyspark.sql.types import StructType, StructField, DecimalType, DateTyp\n",
    "\n",
    "schema = StructType([\n",
    "    StructField(\"open\", DecimalType(10, 4), True),\n",
    "    StructField(\"high\", DecimalType(10, 4), True),\n",
    "    StructField(\"low\", DecimalType(10, 4), True),\n",
    "    StructField(\"close\", DecimalType(10, 4), True),\n",
    "    StructField(\"volume\", DecimalType(10, 4), True),\n",
    "    StructField(\"date\", DateType(), True)\n",
    "])"
   ]
  },
  {
   "cell_type": "markdown",
   "metadata": {
    "application/vnd.databricks.v1+cell": {
     "cellMetadata": {
      "byteLimit": 2048000,
      "rowLimit": 10000
     },
     "inputWidgets": {},
     "nuid": "9ac953b7-928f-4512-874f-de98ff9784ac",
     "showTitle": false,
     "tableResultSettingsMap": {},
     "title": ""
    }
   },
   "source": [
    "## ETL Job Four: RDBMS"
   ]
  },
  {
   "cell_type": "code",
   "execution_count": 0,
   "metadata": {
    "application/vnd.databricks.v1+cell": {
     "cellMetadata": {
      "byteLimit": 2048000,
      "rowLimit": 10000
     },
     "collapsed": true,
     "inputWidgets": {},
     "nuid": "86df0eb2-c5b3-4f63-ae01-e6ad0e9e79b3",
     "showTitle": false,
     "tableResultSettingsMap": {},
     "title": ""
    }
   },
   "outputs": [],
   "source": [
    "driver = \"org.postgresql.Driver\"\n",
    "\n",
    "database_host = \"hh-pgsql-public.ebi.ac.uk\"\n",
    "database_port = \"5432\"\n",
    "database_name = \"pfmegrnargs\"\n",
    "table = \"rna\"\n",
    "user = \"reader\"\n",
    "password = \"NWDMCE5xdipIjRrp\"\n",
    "\n",
    "url = f\"jdbc:postgresql://{database_host}:{database_port}/{database_name}\"\n",
    "\n",
    "remote_table = (spark.read\n",
    "  .format(\"jdbc\")\n",
    "  .option(\"driver\", driver)\n",
    "  .option(\"url\", url)\n",
    "  .option(\"dbtable\", table)\n",
    "  .option(\"user\", user)\n",
    "  .option(\"password\", password)\n",
    "  .load()\n",
    "  .limit(100)\n",
    ")\n",
    "\n",
    "remote_table.write.mode(\"overwrite\").saveAsTable(\"rna_100_records\")"
   ]
  }
 ],
 "metadata": {
  "application/vnd.databricks.v1+notebook": {
   "computePreferences": null,
   "dashboards": [],
   "environmentMetadata": {
    "base_environment": "",
    "environment_version": "1"
   },
   "inputWidgetPreferences": null,
   "language": "python",
   "notebookMetadata": {
    "pythonIndentUnit": 4
   },
   "notebookName": "ETL",
   "widgets": {}
  }
 },
 "nbformat": 4,
 "nbformat_minor": 0
}
