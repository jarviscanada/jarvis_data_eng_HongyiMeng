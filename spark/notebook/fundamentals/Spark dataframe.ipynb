{
 "cells": [
  {
   "cell_type": "markdown",
   "metadata": {
    "application/vnd.databricks.v1+cell": {
     "cellMetadata": {},
     "inputWidgets": {},
     "nuid": "e46ecd77-232e-460f-a4f6-43e5046ccdaf",
     "showTitle": false,
     "tableResultSettingsMap": {},
     "title": ""
    }
   },
   "source": [
    "# Imports"
   ]
  },
  {
   "cell_type": "code",
   "execution_count": 0,
   "metadata": {
    "application/vnd.databricks.v1+cell": {
     "cellMetadata": {
      "byteLimit": 2048000,
      "rowLimit": 10000
     },
     "inputWidgets": {},
     "nuid": "f36e629b-5a77-4cbc-ac5c-f2961cf99a40",
     "showTitle": false,
     "tableResultSettingsMap": {},
     "title": ""
    }
   },
   "outputs": [],
   "source": [
    "from pyspark.sql.types import DateType\n",
    "from pyspark.sql.functions import *"
   ]
  },
  {
   "cell_type": "markdown",
   "metadata": {
    "application/vnd.databricks.v1+cell": {
     "cellMetadata": {
      "byteLimit": 2048000,
      "rowLimit": 10000
     },
     "inputWidgets": {},
     "nuid": "622d5fa6-1be8-4fdb-b66c-0b1a267d9ec7",
     "showTitle": false,
     "tableResultSettingsMap": {},
     "title": ""
    }
   },
   "source": [
    "#Join - 1"
   ]
  },
  {
   "cell_type": "code",
   "execution_count": 0,
   "metadata": {
    "application/vnd.databricks.v1+cell": {
     "cellMetadata": {
      "byteLimit": 2048000,
      "rowLimit": 10000
     },
     "inputWidgets": {},
     "nuid": "38f8b4db-3234-4322-b694-254b237f4bf0",
     "showTitle": false,
     "tableResultSettingsMap": {},
     "title": ""
    }
   },
   "outputs": [
    {
     "output_type": "display_data",
     "data": {
      "text/html": [
       "<style scoped>\n",
       "  .table-result-container {\n",
       "    max-height: 300px;\n",
       "    overflow: auto;\n",
       "  }\n",
       "  table, th, td {\n",
       "    border: 1px solid black;\n",
       "    border-collapse: collapse;\n",
       "  }\n",
       "  th, td {\n",
       "    padding: 5px;\n",
       "  }\n",
       "  th {\n",
       "    text-align: left;\n",
       "  }\n",
       "</style><div class='table-result-container'><table class='table-result'><thead style='background-color: white'><tr><th>starttime</th></tr></thead><tbody><tr><td>2012-09-18T09:00:00.000+0000</td></tr><tr><td>2012-09-18T17:30:00.000+0000</td></tr><tr><td>2012-09-18T13:30:00.000+0000</td></tr><tr><td>2012-09-18T20:00:00.000+0000</td></tr><tr><td>2012-09-19T09:30:00.000+0000</td></tr><tr><td>2012-09-19T15:00:00.000+0000</td></tr><tr><td>2012-09-19T12:00:00.000+0000</td></tr><tr><td>2012-09-20T15:30:00.000+0000</td></tr><tr><td>2012-09-20T11:30:00.000+0000</td></tr><tr><td>2012-09-20T14:00:00.000+0000</td></tr><tr><td>2012-09-21T10:30:00.000+0000</td></tr><tr><td>2012-09-21T14:00:00.000+0000</td></tr><tr><td>2012-09-22T08:30:00.000+0000</td></tr><tr><td>2012-09-22T17:00:00.000+0000</td></tr><tr><td>2012-09-23T08:30:00.000+0000</td></tr><tr><td>2012-09-23T17:30:00.000+0000</td></tr><tr><td>2012-09-23T19:00:00.000+0000</td></tr><tr><td>2012-09-24T08:00:00.000+0000</td></tr><tr><td>2012-09-24T16:30:00.000+0000</td></tr><tr><td>2012-09-24T12:30:00.000+0000</td></tr><tr><td>2012-09-25T15:30:00.000+0000</td></tr><tr><td>2012-09-25T17:00:00.000+0000</td></tr><tr><td>2012-09-26T13:00:00.000+0000</td></tr><tr><td>2012-09-26T17:00:00.000+0000</td></tr><tr><td>2012-09-27T08:00:00.000+0000</td></tr><tr><td>2012-09-28T11:30:00.000+0000</td></tr><tr><td>2012-09-28T09:30:00.000+0000</td></tr><tr><td>2012-09-28T13:00:00.000+0000</td></tr><tr><td>2012-09-29T16:00:00.000+0000</td></tr><tr><td>2012-09-29T10:30:00.000+0000</td></tr><tr><td>2012-09-29T13:30:00.000+0000</td></tr><tr><td>2012-09-29T14:30:00.000+0000</td></tr><tr><td>2012-09-29T17:30:00.000+0000</td></tr><tr><td>2012-09-30T14:30:00.000+0000</td></tr></tbody></table></div>"
      ]
     },
     "metadata": {
      "application/vnd.databricks.v1+output": {
       "addedWidgets": {},
       "aggData": [],
       "aggError": "",
       "aggOverflow": false,
       "aggSchema": [],
       "aggSeriesLimitReached": false,
       "aggType": "",
       "arguments": {},
       "columnCustomDisplayInfos": {},
       "data": [
        [
         "2012-09-18T09:00:00.000+0000"
        ],
        [
         "2012-09-18T17:30:00.000+0000"
        ],
        [
         "2012-09-18T13:30:00.000+0000"
        ],
        [
         "2012-09-18T20:00:00.000+0000"
        ],
        [
         "2012-09-19T09:30:00.000+0000"
        ],
        [
         "2012-09-19T15:00:00.000+0000"
        ],
        [
         "2012-09-19T12:00:00.000+0000"
        ],
        [
         "2012-09-20T15:30:00.000+0000"
        ],
        [
         "2012-09-20T11:30:00.000+0000"
        ],
        [
         "2012-09-20T14:00:00.000+0000"
        ],
        [
         "2012-09-21T10:30:00.000+0000"
        ],
        [
         "2012-09-21T14:00:00.000+0000"
        ],
        [
         "2012-09-22T08:30:00.000+0000"
        ],
        [
         "2012-09-22T17:00:00.000+0000"
        ],
        [
         "2012-09-23T08:30:00.000+0000"
        ],
        [
         "2012-09-23T17:30:00.000+0000"
        ],
        [
         "2012-09-23T19:00:00.000+0000"
        ],
        [
         "2012-09-24T08:00:00.000+0000"
        ],
        [
         "2012-09-24T16:30:00.000+0000"
        ],
        [
         "2012-09-24T12:30:00.000+0000"
        ],
        [
         "2012-09-25T15:30:00.000+0000"
        ],
        [
         "2012-09-25T17:00:00.000+0000"
        ],
        [
         "2012-09-26T13:00:00.000+0000"
        ],
        [
         "2012-09-26T17:00:00.000+0000"
        ],
        [
         "2012-09-27T08:00:00.000+0000"
        ],
        [
         "2012-09-28T11:30:00.000+0000"
        ],
        [
         "2012-09-28T09:30:00.000+0000"
        ],
        [
         "2012-09-28T13:00:00.000+0000"
        ],
        [
         "2012-09-29T16:00:00.000+0000"
        ],
        [
         "2012-09-29T10:30:00.000+0000"
        ],
        [
         "2012-09-29T13:30:00.000+0000"
        ],
        [
         "2012-09-29T14:30:00.000+0000"
        ],
        [
         "2012-09-29T17:30:00.000+0000"
        ],
        [
         "2012-09-30T14:30:00.000+0000"
        ]
       ],
       "datasetInfos": [],
       "dbfsResultPath": null,
       "isJsonSchema": true,
       "metadata": {},
       "overflow": false,
       "plotOptions": {
        "customPlotOptions": {},
        "displayType": "table",
        "pivotAggregation": null,
        "pivotColumns": null,
        "xColumns": null,
        "yColumns": null
       },
       "removedWidgets": [],
       "schema": [
        {
         "metadata": "{}",
         "name": "starttime",
         "type": "\"timestamp\""
        }
       ],
       "type": "table"
      }
     },
     "output_type": "display_data"
    }
   ],
   "source": [
    "bookings = spark.sql(\"SELECT * FROM bookings\")\n",
    "members = spark.sql(\"SELECT * FROM members\")\n",
    "facilities = spark.sql(\"SELECT * FROM facilities\")\n",
    "\n",
    "res = members.join(bookings, members.memid == bookings.memid).filter(members.surname == \"Farrell\").filter(members.firstname == \"David\").select(bookings.starttime)\n",
    "display(res)"
   ]
  },
  {
   "cell_type": "markdown",
   "metadata": {
    "application/vnd.databricks.v1+cell": {
     "cellMetadata": {
      "byteLimit": 2048000,
      "rowLimit": 10000
     },
     "inputWidgets": {},
     "nuid": "26e222c5-24e0-4ef6-b75b-8e84a36a2e69",
     "showTitle": false,
     "tableResultSettingsMap": {},
     "title": ""
    }
   },
   "source": [
    "## Join 2"
   ]
  },
  {
   "cell_type": "code",
   "execution_count": 0,
   "metadata": {
    "application/vnd.databricks.v1+cell": {
     "cellMetadata": {
      "byteLimit": 2048000,
      "rowLimit": 10000
     },
     "inputWidgets": {},
     "nuid": "fa58c6d6-ec9a-43dc-aa89-f1ac07c73557",
     "showTitle": false,
     "tableResultSettingsMap": {},
     "title": ""
    }
   },
   "outputs": [
    {
     "output_type": "display_data",
     "data": {
      "text/html": [
       "<style scoped>\n",
       "  .table-result-container {\n",
       "    max-height: 300px;\n",
       "    overflow: auto;\n",
       "  }\n",
       "  table, th, td {\n",
       "    border: 1px solid black;\n",
       "    border-collapse: collapse;\n",
       "  }\n",
       "  th, td {\n",
       "    padding: 5px;\n",
       "  }\n",
       "  th {\n",
       "    text-align: left;\n",
       "  }\n",
       "</style><div class='table-result-container'><table class='table-result'><thead style='background-color: white'><tr><th>start</th><th>name</th></tr></thead><tbody><tr><td>2012-09-21T08:00:00.000+0000</td><td>Tennis Court 1</td></tr><tr><td>2012-09-21T08:00:00.000+0000</td><td>Tennis Court 2</td></tr><tr><td>2012-09-21T09:30:00.000+0000</td><td>Tennis Court 1</td></tr><tr><td>2012-09-21T10:00:00.000+0000</td><td>Tennis Court 2</td></tr><tr><td>2012-09-21T11:30:00.000+0000</td><td>Tennis Court 2</td></tr><tr><td>2012-09-21T12:00:00.000+0000</td><td>Tennis Court 1</td></tr><tr><td>2012-09-21T13:30:00.000+0000</td><td>Tennis Court 1</td></tr><tr><td>2012-09-21T14:00:00.000+0000</td><td>Tennis Court 2</td></tr><tr><td>2012-09-21T15:30:00.000+0000</td><td>Tennis Court 1</td></tr><tr><td>2012-09-21T16:00:00.000+0000</td><td>Tennis Court 2</td></tr><tr><td>2012-09-21T17:00:00.000+0000</td><td>Tennis Court 1</td></tr><tr><td>2012-09-21T18:00:00.000+0000</td><td>Tennis Court 2</td></tr></tbody></table></div>"
      ]
     },
     "metadata": {
      "application/vnd.databricks.v1+output": {
       "addedWidgets": {},
       "aggData": [],
       "aggError": "",
       "aggOverflow": false,
       "aggSchema": [],
       "aggSeriesLimitReached": false,
       "aggType": "",
       "arguments": {},
       "columnCustomDisplayInfos": {},
       "data": [
        [
         "2012-09-21T08:00:00.000+0000",
         "Tennis Court 1"
        ],
        [
         "2012-09-21T08:00:00.000+0000",
         "Tennis Court 2"
        ],
        [
         "2012-09-21T09:30:00.000+0000",
         "Tennis Court 1"
        ],
        [
         "2012-09-21T10:00:00.000+0000",
         "Tennis Court 2"
        ],
        [
         "2012-09-21T11:30:00.000+0000",
         "Tennis Court 2"
        ],
        [
         "2012-09-21T12:00:00.000+0000",
         "Tennis Court 1"
        ],
        [
         "2012-09-21T13:30:00.000+0000",
         "Tennis Court 1"
        ],
        [
         "2012-09-21T14:00:00.000+0000",
         "Tennis Court 2"
        ],
        [
         "2012-09-21T15:30:00.000+0000",
         "Tennis Court 1"
        ],
        [
         "2012-09-21T16:00:00.000+0000",
         "Tennis Court 2"
        ],
        [
         "2012-09-21T17:00:00.000+0000",
         "Tennis Court 1"
        ],
        [
         "2012-09-21T18:00:00.000+0000",
         "Tennis Court 2"
        ]
       ],
       "datasetInfos": [],
       "dbfsResultPath": null,
       "isJsonSchema": true,
       "metadata": {},
       "overflow": false,
       "plotOptions": {
        "customPlotOptions": {},
        "displayType": "table",
        "pivotAggregation": null,
        "pivotColumns": null,
        "xColumns": null,
        "yColumns": null
       },
       "removedWidgets": [],
       "schema": [
        {
         "metadata": "{}",
         "name": "start",
         "type": "\"timestamp\""
        },
        {
         "metadata": "{}",
         "name": "name",
         "type": "\"string\""
        }
       ],
       "type": "table"
      }
     },
     "output_type": "display_data"
    }
   ],
   "source": [
    "\n",
    "res = bookings.join(facilities, bookings.facid == facilities[\"facid\"]).withColumn('date', bookings.starttime.cast(DateType())).filter(col(\"date\") == \"2012-09-21\").filter(col(\"name\").rlike(\"Tennis Court\")).withColumnRenamed(\"starttime\", \"start\").select(\"start\", \"name\").orderBy(\"starttime\")\n",
    "\n",
    "display(res)"
   ]
  },
  {
   "cell_type": "markdown",
   "metadata": {
    "application/vnd.databricks.v1+cell": {
     "cellMetadata": {
      "byteLimit": 2048000,
      "rowLimit": 10000
     },
     "inputWidgets": {},
     "nuid": "7136dcb0-1069-4f0e-a46b-4321477a383f",
     "showTitle": false,
     "tableResultSettingsMap": {},
     "title": ""
    }
   },
   "source": [
    "## Join 3"
   ]
  },
  {
   "cell_type": "code",
   "execution_count": 0,
   "metadata": {
    "application/vnd.databricks.v1+cell": {
     "cellMetadata": {
      "byteLimit": 2048000,
      "rowLimit": 10000
     },
     "inputWidgets": {},
     "nuid": "9561eb74-60bb-418b-b7e6-f73c96bde489",
     "showTitle": false,
     "tableResultSettingsMap": {},
     "title": ""
    }
   },
   "outputs": [
    {
     "output_type": "display_data",
     "data": {
      "text/html": [
       "<style scoped>\n",
       "  .table-result-container {\n",
       "    max-height: 300px;\n",
       "    overflow: auto;\n",
       "  }\n",
       "  table, th, td {\n",
       "    border: 1px solid black;\n",
       "    border-collapse: collapse;\n",
       "  }\n",
       "  th, td {\n",
       "    padding: 5px;\n",
       "  }\n",
       "  th {\n",
       "    text-align: left;\n",
       "  }\n",
       "</style><div class='table-result-container'><table class='table-result'><thead style='background-color: white'><tr><th>memfname</th><th>memsname</th><th>recfname</th><th>recsname</th></tr></thead><tbody><tr><td>Janice</td><td>Joplette</td><td>Darren</td><td>Smith</td></tr><tr><td>Gerald</td><td>Butters</td><td>Darren</td><td>Smith</td></tr><tr><td>Nancy</td><td>Dare</td><td>Janice</td><td>Joplette</td></tr><tr><td>Tim</td><td>Boothe</td><td>Tim</td><td>Rownam</td></tr><tr><td>Ponder</td><td>Stibbons</td><td>Burton</td><td>Tracy</td></tr><tr><td>Charles</td><td>Owen</td><td>Darren</td><td>Smith</td></tr><tr><td>David</td><td>Jones</td><td>Janice</td><td>Joplette</td></tr><tr><td>Anne</td><td>Baker</td><td>Ponder</td><td>Stibbons</td></tr><tr><td>Jack</td><td>Smith</td><td>Darren</td><td>Smith</td></tr><tr><td>Florence</td><td>Bader</td><td>Ponder</td><td>Stibbons</td></tr><tr><td>Timothy</td><td>Baker</td><td>Jemima</td><td>Farrell</td></tr><tr><td>David</td><td>Pinker</td><td>Jemima</td><td>Farrell</td></tr><tr><td>Matthew</td><td>Genting</td><td>Gerald</td><td>Butters</td></tr><tr><td>Anna</td><td>Mackenzie</td><td>Darren</td><td>Smith</td></tr><tr><td>Joan</td><td>Coplin</td><td>Timothy</td><td>Baker</td></tr><tr><td>Ramnaresh</td><td>Sarwin</td><td>Florence</td><td>Bader</td></tr><tr><td>Douglas</td><td>Jones</td><td>David</td><td>Jones</td></tr><tr><td>Henrietta</td><td>Rumney</td><td>Matthew</td><td>Genting</td></tr><tr><td>Henry</td><td>Worthington-Smyth</td><td>Tracy</td><td>Smith</td></tr><tr><td>Millicent</td><td>Purview</td><td>Tracy</td><td>Smith</td></tr><tr><td>John</td><td>Hunt</td><td>Millicent</td><td>Purview</td></tr><tr><td>Erica</td><td>Crumpet</td><td>Tracy</td><td>Smith</td></tr></tbody></table></div>"
      ]
     },
     "metadata": {
      "application/vnd.databricks.v1+output": {
       "addedWidgets": {},
       "aggData": [],
       "aggError": "",
       "aggOverflow": false,
       "aggSchema": [],
       "aggSeriesLimitReached": false,
       "aggType": "",
       "arguments": {},
       "columnCustomDisplayInfos": {},
       "data": [
        [
         "Janice",
         "Joplette",
         "Darren",
         "Smith"
        ],
        [
         "Gerald",
         "Butters",
         "Darren",
         "Smith"
        ],
        [
         "Nancy",
         "Dare",
         "Janice",
         "Joplette"
        ],
        [
         "Tim",
         "Boothe",
         "Tim",
         "Rownam"
        ],
        [
         "Ponder",
         "Stibbons",
         "Burton",
         "Tracy"
        ],
        [
         "Charles",
         "Owen",
         "Darren",
         "Smith"
        ],
        [
         "David",
         "Jones",
         "Janice",
         "Joplette"
        ],
        [
         "Anne",
         "Baker",
         "Ponder",
         "Stibbons"
        ],
        [
         "Jack",
         "Smith",
         "Darren",
         "Smith"
        ],
        [
         "Florence",
         "Bader",
         "Ponder",
         "Stibbons"
        ],
        [
         "Timothy",
         "Baker",
         "Jemima",
         "Farrell"
        ],
        [
         "David",
         "Pinker",
         "Jemima",
         "Farrell"
        ],
        [
         "Matthew",
         "Genting",
         "Gerald",
         "Butters"
        ],
        [
         "Anna",
         "Mackenzie",
         "Darren",
         "Smith"
        ],
        [
         "Joan",
         "Coplin",
         "Timothy",
         "Baker"
        ],
        [
         "Ramnaresh",
         "Sarwin",
         "Florence",
         "Bader"
        ],
        [
         "Douglas",
         "Jones",
         "David",
         "Jones"
        ],
        [
         "Henrietta",
         "Rumney",
         "Matthew",
         "Genting"
        ],
        [
         "Henry",
         "Worthington-Smyth",
         "Tracy",
         "Smith"
        ],
        [
         "Millicent",
         "Purview",
         "Tracy",
         "Smith"
        ],
        [
         "John",
         "Hunt",
         "Millicent",
         "Purview"
        ],
        [
         "Erica",
         "Crumpet",
         "Tracy",
         "Smith"
        ]
       ],
       "datasetInfos": [],
       "dbfsResultPath": null,
       "isJsonSchema": true,
       "metadata": {},
       "overflow": false,
       "plotOptions": {
        "customPlotOptions": {},
        "displayType": "table",
        "pivotAggregation": null,
        "pivotColumns": null,
        "xColumns": null,
        "yColumns": null
       },
       "removedWidgets": [],
       "schema": [
        {
         "metadata": "{}",
         "name": "memfname",
         "type": "\"string\""
        },
        {
         "metadata": "{}",
         "name": "memsname",
         "type": "\"string\""
        },
        {
         "metadata": "{}",
         "name": "recfname",
         "type": "\"string\""
        },
        {
         "metadata": "{}",
         "name": "recsname",
         "type": "\"string\""
        }
       ],
       "type": "table"
      }
     },
     "output_type": "display_data"
    }
   ],
   "source": [
    "\n",
    "res = members.alias(\"mem1\").join(members.alias(\"mem2\"), col(\"mem1.recommendedby\") == col(\"mem2.memid\")).select(col(\"mem1.firstname\").alias(\"memfname\"), col(\"mem1.surname\").alias(\"memsname\"), col(\"mem2.firstname\").alias(\"recfname\"), col(\"mem2.surname\").alias(\"recsname\"))\n",
    "display(res)"
   ]
  },
  {
   "cell_type": "markdown",
   "metadata": {
    "application/vnd.databricks.v1+cell": {
     "cellMetadata": {
      "byteLimit": 2048000,
      "rowLimit": 10000
     },
     "inputWidgets": {},
     "nuid": "6bf481c9-c254-4352-8a99-2fbd4bc5db0e",
     "showTitle": false,
     "tableResultSettingsMap": {},
     "title": ""
    }
   },
   "source": [
    "## Join 4"
   ]
  },
  {
   "cell_type": "code",
   "execution_count": 0,
   "metadata": {
    "application/vnd.databricks.v1+cell": {
     "cellMetadata": {
      "byteLimit": 2048000,
      "rowLimit": 10000
     },
     "inputWidgets": {},
     "nuid": "5ab1748d-ca50-440a-a127-9b1c1bc959bb",
     "showTitle": false,
     "tableResultSettingsMap": {},
     "title": ""
    }
   },
   "outputs": [
    {
     "output_type": "display_data",
     "data": {
      "text/html": [
       "<style scoped>\n",
       "  .table-result-container {\n",
       "    max-height: 300px;\n",
       "    overflow: auto;\n",
       "  }\n",
       "  table, th, td {\n",
       "    border: 1px solid black;\n",
       "    border-collapse: collapse;\n",
       "  }\n",
       "  th, td {\n",
       "    padding: 5px;\n",
       "  }\n",
       "  th {\n",
       "    text-align: left;\n",
       "  }\n",
       "</style><div class='table-result-container'><table class='table-result'><thead style='background-color: white'><tr><th>member</th><th>facility</th></tr></thead><tbody><tr><td>Anne Baker</td><td>Tennis Court 1</td></tr><tr><td>Anne Baker</td><td>Tennis Court 2</td></tr><tr><td>Burton Tracy</td><td>Tennis Court 1</td></tr><tr><td>Burton Tracy</td><td>Tennis Court 2</td></tr><tr><td>Charles Owen</td><td>Tennis Court 1</td></tr><tr><td>Charles Owen</td><td>Tennis Court 2</td></tr><tr><td>Darren Smith</td><td>Tennis Court 2</td></tr><tr><td>David Farrell</td><td>Tennis Court 1</td></tr><tr><td>David Farrell</td><td>Tennis Court 2</td></tr><tr><td>David Jones</td><td>Tennis Court 1</td></tr><tr><td>David Jones</td><td>Tennis Court 2</td></tr><tr><td>David Pinker</td><td>Tennis Court 1</td></tr><tr><td>Douglas Jones</td><td>Tennis Court 1</td></tr><tr><td>Erica Crumpet</td><td>Tennis Court 1</td></tr><tr><td>Florence Bader</td><td>Tennis Court 1</td></tr><tr><td>Florence Bader</td><td>Tennis Court 2</td></tr><tr><td>GUEST GUEST</td><td>Tennis Court 1</td></tr><tr><td>GUEST GUEST</td><td>Tennis Court 2</td></tr><tr><td>Gerald Butters</td><td>Tennis Court 1</td></tr><tr><td>Gerald Butters</td><td>Tennis Court 2</td></tr><tr><td>Henrietta Rumney</td><td>Tennis Court 2</td></tr><tr><td>Jack Smith</td><td>Tennis Court 1</td></tr><tr><td>Jack Smith</td><td>Tennis Court 2</td></tr><tr><td>Janice Joplette</td><td>Tennis Court 1</td></tr><tr><td>Janice Joplette</td><td>Tennis Court 2</td></tr><tr><td>Jemima Farrell</td><td>Tennis Court 1</td></tr><tr><td>Jemima Farrell</td><td>Tennis Court 2</td></tr><tr><td>Joan Coplin</td><td>Tennis Court 1</td></tr><tr><td>John Hunt</td><td>Tennis Court 1</td></tr><tr><td>John Hunt</td><td>Tennis Court 2</td></tr><tr><td>Matthew Genting</td><td>Tennis Court 1</td></tr><tr><td>Millicent Purview</td><td>Tennis Court 2</td></tr><tr><td>Nancy Dare</td><td>Tennis Court 1</td></tr><tr><td>Nancy Dare</td><td>Tennis Court 2</td></tr><tr><td>Ponder Stibbons</td><td>Tennis Court 1</td></tr><tr><td>Ponder Stibbons</td><td>Tennis Court 2</td></tr><tr><td>Ramnaresh Sarwin</td><td>Tennis Court 1</td></tr><tr><td>Ramnaresh Sarwin</td><td>Tennis Court 2</td></tr><tr><td>Tim Boothe</td><td>Tennis Court 1</td></tr><tr><td>Tim Boothe</td><td>Tennis Court 2</td></tr><tr><td>Tim Rownam</td><td>Tennis Court 1</td></tr><tr><td>Tim Rownam</td><td>Tennis Court 2</td></tr><tr><td>Timothy Baker</td><td>Tennis Court 1</td></tr><tr><td>Timothy Baker</td><td>Tennis Court 2</td></tr><tr><td>Tracy Smith</td><td>Tennis Court 1</td></tr><tr><td>Tracy Smith</td><td>Tennis Court 2</td></tr></tbody></table></div>"
      ]
     },
     "metadata": {
      "application/vnd.databricks.v1+output": {
       "addedWidgets": {},
       "aggData": [],
       "aggError": "",
       "aggOverflow": false,
       "aggSchema": [],
       "aggSeriesLimitReached": false,
       "aggType": "",
       "arguments": {},
       "columnCustomDisplayInfos": {},
       "data": [
        [
         "Anne Baker",
         "Tennis Court 1"
        ],
        [
         "Anne Baker",
         "Tennis Court 2"
        ],
        [
         "Burton Tracy",
         "Tennis Court 1"
        ],
        [
         "Burton Tracy",
         "Tennis Court 2"
        ],
        [
         "Charles Owen",
         "Tennis Court 1"
        ],
        [
         "Charles Owen",
         "Tennis Court 2"
        ],
        [
         "Darren Smith",
         "Tennis Court 2"
        ],
        [
         "David Farrell",
         "Tennis Court 1"
        ],
        [
         "David Farrell",
         "Tennis Court 2"
        ],
        [
         "David Jones",
         "Tennis Court 1"
        ],
        [
         "David Jones",
         "Tennis Court 2"
        ],
        [
         "David Pinker",
         "Tennis Court 1"
        ],
        [
         "Douglas Jones",
         "Tennis Court 1"
        ],
        [
         "Erica Crumpet",
         "Tennis Court 1"
        ],
        [
         "Florence Bader",
         "Tennis Court 1"
        ],
        [
         "Florence Bader",
         "Tennis Court 2"
        ],
        [
         "GUEST GUEST",
         "Tennis Court 1"
        ],
        [
         "GUEST GUEST",
         "Tennis Court 2"
        ],
        [
         "Gerald Butters",
         "Tennis Court 1"
        ],
        [
         "Gerald Butters",
         "Tennis Court 2"
        ],
        [
         "Henrietta Rumney",
         "Tennis Court 2"
        ],
        [
         "Jack Smith",
         "Tennis Court 1"
        ],
        [
         "Jack Smith",
         "Tennis Court 2"
        ],
        [
         "Janice Joplette",
         "Tennis Court 1"
        ],
        [
         "Janice Joplette",
         "Tennis Court 2"
        ],
        [
         "Jemima Farrell",
         "Tennis Court 1"
        ],
        [
         "Jemima Farrell",
         "Tennis Court 2"
        ],
        [
         "Joan Coplin",
         "Tennis Court 1"
        ],
        [
         "John Hunt",
         "Tennis Court 1"
        ],
        [
         "John Hunt",
         "Tennis Court 2"
        ],
        [
         "Matthew Genting",
         "Tennis Court 1"
        ],
        [
         "Millicent Purview",
         "Tennis Court 2"
        ],
        [
         "Nancy Dare",
         "Tennis Court 1"
        ],
        [
         "Nancy Dare",
         "Tennis Court 2"
        ],
        [
         "Ponder Stibbons",
         "Tennis Court 1"
        ],
        [
         "Ponder Stibbons",
         "Tennis Court 2"
        ],
        [
         "Ramnaresh Sarwin",
         "Tennis Court 1"
        ],
        [
         "Ramnaresh Sarwin",
         "Tennis Court 2"
        ],
        [
         "Tim Boothe",
         "Tennis Court 1"
        ],
        [
         "Tim Boothe",
         "Tennis Court 2"
        ],
        [
         "Tim Rownam",
         "Tennis Court 1"
        ],
        [
         "Tim Rownam",
         "Tennis Court 2"
        ],
        [
         "Timothy Baker",
         "Tennis Court 1"
        ],
        [
         "Timothy Baker",
         "Tennis Court 2"
        ],
        [
         "Tracy Smith",
         "Tennis Court 1"
        ],
        [
         "Tracy Smith",
         "Tennis Court 2"
        ]
       ],
       "datasetInfos": [],
       "dbfsResultPath": null,
       "isJsonSchema": true,
       "metadata": {},
       "overflow": false,
       "plotOptions": {
        "customPlotOptions": {},
        "displayType": "table",
        "pivotAggregation": null,
        "pivotColumns": null,
        "xColumns": null,
        "yColumns": null
       },
       "removedWidgets": [],
       "schema": [
        {
         "metadata": "{}",
         "name": "member",
         "type": "\"string\""
        },
        {
         "metadata": "{}",
         "name": "facility",
         "type": "\"string\""
        }
       ],
       "type": "table"
      }
     },
     "output_type": "display_data"
    }
   ],
   "source": [
    "res = members.join(bookings, members.memid == bookings.memid).join(facilities, bookings.facid == facilities.facid).filter(col(\"name\").rlike(\"Tennis Court\")).withColumn(\"member\", concat(\"firstname\", lit(\" \"), \"surname\")).withColumnRenamed(\"name\", \"facility\").select(\"member\", \"facility\").distinct().orderBy(\"member\", \"facility\")\n",
    "\n",
    "display(res)"
   ]
  },
  {
   "cell_type": "markdown",
   "metadata": {
    "application/vnd.databricks.v1+cell": {
     "cellMetadata": {
      "byteLimit": 2048000,
      "rowLimit": 10000
     },
     "inputWidgets": {},
     "nuid": "b27393f3-d042-4574-b232-c0487148fcc2",
     "showTitle": false,
     "tableResultSettingsMap": {},
     "title": ""
    }
   },
   "source": [
    "## Join 5"
   ]
  },
  {
   "cell_type": "markdown",
   "metadata": {
    "application/vnd.databricks.v1+cell": {
     "cellMetadata": {
      "byteLimit": 2048000,
      "rowLimit": 10000
     },
     "inputWidgets": {},
     "nuid": "b3a31eca-2d8a-4dc8-aa0d-ee42690d6061",
     "showTitle": false,
     "tableResultSettingsMap": {},
     "title": ""
    }
   },
   "source": [
    "## Aggregation 1"
   ]
  },
  {
   "cell_type": "code",
   "execution_count": 0,
   "metadata": {
    "application/vnd.databricks.v1+cell": {
     "cellMetadata": {
      "byteLimit": 2048000,
      "rowLimit": 10000
     },
     "inputWidgets": {},
     "nuid": "b3d72d51-cb6d-48a9-abf4-7320e3cb32cc",
     "showTitle": false,
     "tableResultSettingsMap": {},
     "title": ""
    }
   },
   "outputs": [
    {
     "output_type": "display_data",
     "data": {
      "text/html": [
       "<style scoped>\n",
       "  .table-result-container {\n",
       "    max-height: 300px;\n",
       "    overflow: auto;\n",
       "  }\n",
       "  table, th, td {\n",
       "    border: 1px solid black;\n",
       "    border-collapse: collapse;\n",
       "  }\n",
       "  th, td {\n",
       "    padding: 5px;\n",
       "  }\n",
       "  th {\n",
       "    text-align: left;\n",
       "  }\n",
       "</style><div class='table-result-container'><table class='table-result'><thead style='background-color: white'><tr><th>recommendedby</th><th>count</th></tr></thead><tbody><tr><td>1</td><td>5</td></tr><tr><td>2</td><td>3</td></tr><tr><td>3</td><td>1</td></tr><tr><td>4</td><td>2</td></tr><tr><td>5</td><td>1</td></tr><tr><td>6</td><td>1</td></tr><tr><td>9</td><td>2</td></tr><tr><td>11</td><td>1</td></tr><tr><td>13</td><td>2</td></tr><tr><td>15</td><td>1</td></tr><tr><td>16</td><td>1</td></tr><tr><td>20</td><td>1</td></tr><tr><td>30</td><td>1</td></tr></tbody></table></div>"
      ]
     },
     "metadata": {
      "application/vnd.databricks.v1+output": {
       "addedWidgets": {},
       "aggData": [],
       "aggError": "",
       "aggOverflow": false,
       "aggSchema": [],
       "aggSeriesLimitReached": false,
       "aggType": "",
       "arguments": {},
       "columnCustomDisplayInfos": {},
       "data": [
        [
         1,
         5
        ],
        [
         2,
         3
        ],
        [
         3,
         1
        ],
        [
         4,
         2
        ],
        [
         5,
         1
        ],
        [
         6,
         1
        ],
        [
         9,
         2
        ],
        [
         11,
         1
        ],
        [
         13,
         2
        ],
        [
         15,
         1
        ],
        [
         16,
         1
        ],
        [
         20,
         1
        ],
        [
         30,
         1
        ]
       ],
       "datasetInfos": [],
       "dbfsResultPath": null,
       "isJsonSchema": true,
       "metadata": {},
       "overflow": false,
       "plotOptions": {
        "customPlotOptions": {},
        "displayType": "table",
        "pivotAggregation": null,
        "pivotColumns": null,
        "xColumns": null,
        "yColumns": null
       },
       "removedWidgets": [],
       "schema": [
        {
         "metadata": "{}",
         "name": "recommendedby",
         "type": "\"integer\""
        },
        {
         "metadata": "{}",
         "name": "count",
         "type": "\"long\""
        }
       ],
       "type": "table"
      }
     },
     "output_type": "display_data"
    }
   ],
   "source": [
    "res = members.groupBy(col(\"members.recommendedby\")).count().where(col(\"members.recommendedby\").isNotNull()).orderBy(col(\"members.recommendedby\"))\n",
    "display(res)"
   ]
  },
  {
   "cell_type": "markdown",
   "metadata": {
    "application/vnd.databricks.v1+cell": {
     "cellMetadata": {
      "byteLimit": 2048000,
      "rowLimit": 10000
     },
     "inputWidgets": {},
     "nuid": "40401cba-a04a-432f-9114-0e8003871ef9",
     "showTitle": false,
     "tableResultSettingsMap": {},
     "title": ""
    }
   },
   "source": [
    "## Aggregation 2"
   ]
  },
  {
   "cell_type": "code",
   "execution_count": 0,
   "metadata": {
    "application/vnd.databricks.v1+cell": {
     "cellMetadata": {
      "byteLimit": 2048000,
      "rowLimit": 10000
     },
     "inputWidgets": {},
     "nuid": "536b6517-8417-44d6-b97c-c28af1fcffc2",
     "showTitle": false,
     "tableResultSettingsMap": {},
     "title": ""
    }
   },
   "outputs": [
    {
     "output_type": "display_data",
     "data": {
      "text/html": [
       "<style scoped>\n",
       "  .table-result-container {\n",
       "    max-height: 300px;\n",
       "    overflow: auto;\n",
       "  }\n",
       "  table, th, td {\n",
       "    border: 1px solid black;\n",
       "    border-collapse: collapse;\n",
       "  }\n",
       "  th, td {\n",
       "    padding: 5px;\n",
       "  }\n",
       "  th {\n",
       "    text-align: left;\n",
       "  }\n",
       "</style><div class='table-result-container'><table class='table-result'><thead style='background-color: white'><tr><th>facid</th><th>Total Slots</th></tr></thead><tbody><tr><td>0</td><td>1320</td></tr><tr><td>1</td><td>1278</td></tr><tr><td>2</td><td>1209</td></tr><tr><td>3</td><td>830</td></tr><tr><td>4</td><td>1404</td></tr><tr><td>5</td><td>228</td></tr><tr><td>6</td><td>1104</td></tr><tr><td>7</td><td>908</td></tr><tr><td>8</td><td>911</td></tr></tbody></table></div>"
      ]
     },
     "metadata": {
      "application/vnd.databricks.v1+output": {
       "addedWidgets": {},
       "aggData": [],
       "aggError": "",
       "aggOverflow": false,
       "aggSchema": [],
       "aggSeriesLimitReached": false,
       "aggType": "",
       "arguments": {},
       "columnCustomDisplayInfos": {},
       "data": [
        [
         0,
         1320
        ],
        [
         1,
         1278
        ],
        [
         2,
         1209
        ],
        [
         3,
         830
        ],
        [
         4,
         1404
        ],
        [
         5,
         228
        ],
        [
         6,
         1104
        ],
        [
         7,
         908
        ],
        [
         8,
         911
        ]
       ],
       "datasetInfos": [],
       "dbfsResultPath": null,
       "isJsonSchema": true,
       "metadata": {},
       "overflow": false,
       "plotOptions": {
        "customPlotOptions": {},
        "displayType": "table",
        "pivotAggregation": null,
        "pivotColumns": null,
        "xColumns": null,
        "yColumns": null
       },
       "removedWidgets": [],
       "schema": [
        {
         "metadata": "{}",
         "name": "facid",
         "type": "\"integer\""
        },
        {
         "metadata": "{}",
         "name": "Total Slots",
         "type": "\"long\""
        }
       ],
       "type": "table"
      }
     },
     "output_type": "display_data"
    }
   ],
   "source": [
    "res = facilities.join(bookings, facilities.facid == bookings.facid).groupBy(col(\"facilities.facid\")).sum(\"slots\").withColumnRenamed(\"sum(slots)\",\"Total Slots\").orderBy(\"facid\")\n",
    "display(res)"
   ]
  },
  {
   "cell_type": "markdown",
   "metadata": {
    "application/vnd.databricks.v1+cell": {
     "cellMetadata": {
      "byteLimit": 2048000,
      "rowLimit": 10000
     },
     "inputWidgets": {},
     "nuid": "c112c608-b797-4f06-ac9e-14c3eff3bafa",
     "showTitle": false,
     "tableResultSettingsMap": {},
     "title": ""
    }
   },
   "source": [
    "## Aggregation 3"
   ]
  },
  {
   "cell_type": "code",
   "execution_count": 0,
   "metadata": {
    "application/vnd.databricks.v1+cell": {
     "cellMetadata": {
      "byteLimit": 2048000,
      "rowLimit": 10000
     },
     "inputWidgets": {},
     "nuid": "76f5930e-dcd8-41ff-8682-ea9eebb9f821",
     "showTitle": false,
     "tableResultSettingsMap": {},
     "title": ""
    }
   },
   "outputs": [
    {
     "output_type": "display_data",
     "data": {
      "text/html": [
       "<style scoped>\n",
       "  .table-result-container {\n",
       "    max-height: 300px;\n",
       "    overflow: auto;\n",
       "  }\n",
       "  table, th, td {\n",
       "    border: 1px solid black;\n",
       "    border-collapse: collapse;\n",
       "  }\n",
       "  th, td {\n",
       "    padding: 5px;\n",
       "  }\n",
       "  th {\n",
       "    text-align: left;\n",
       "  }\n",
       "</style><div class='table-result-container'><table class='table-result'><thead style='background-color: white'><tr><th>facid</th><th>Total Slots</th></tr></thead><tbody><tr><td>5</td><td>122</td></tr><tr><td>3</td><td>422</td></tr><tr><td>7</td><td>426</td></tr><tr><td>8</td><td>471</td></tr><tr><td>6</td><td>540</td></tr><tr><td>2</td><td>570</td></tr><tr><td>1</td><td>588</td></tr><tr><td>0</td><td>591</td></tr><tr><td>4</td><td>648</td></tr></tbody></table></div>"
      ]
     },
     "metadata": {
      "application/vnd.databricks.v1+output": {
       "addedWidgets": {},
       "aggData": [],
       "aggError": "",
       "aggOverflow": false,
       "aggSchema": [],
       "aggSeriesLimitReached": false,
       "aggType": "",
       "arguments": {},
       "columnCustomDisplayInfos": {},
       "data": [
        [
         5,
         122
        ],
        [
         3,
         422
        ],
        [
         7,
         426
        ],
        [
         8,
         471
        ],
        [
         6,
         540
        ],
        [
         2,
         570
        ],
        [
         1,
         588
        ],
        [
         0,
         591
        ],
        [
         4,
         648
        ]
       ],
       "datasetInfos": [],
       "dbfsResultPath": null,
       "isJsonSchema": true,
       "metadata": {},
       "overflow": false,
       "plotOptions": {
        "customPlotOptions": {},
        "displayType": "table",
        "pivotAggregation": null,
        "pivotColumns": null,
        "xColumns": null,
        "yColumns": null
       },
       "removedWidgets": [],
       "schema": [
        {
         "metadata": "{}",
         "name": "facid",
         "type": "\"integer\""
        },
        {
         "metadata": "{}",
         "name": "Total Slots",
         "type": "\"long\""
        }
       ],
       "type": "table"
      }
     },
     "output_type": "display_data"
    }
   ],
   "source": [
    "\n",
    "\n",
    "res = facilities.join(bookings.withColumn(\"startdate\", bookings.starttime.cast(DateType())), facilities.facid == bookings.facid).filter(col(\"startdate\") >= \"2012-09-01\").filter(col(\"startdate\") < \"2012-10-01\").groupBy(facilities.facid).sum(\"slots\").withColumnRenamed(\"sum(slots)\",\"Total Slots\").orderBy(\"Total Slots\")\n",
    "display(res)"
   ]
  },
  {
   "cell_type": "markdown",
   "metadata": {
    "application/vnd.databricks.v1+cell": {
     "cellMetadata": {
      "byteLimit": 2048000,
      "rowLimit": 10000
     },
     "inputWidgets": {},
     "nuid": "a7ba63a5-3fcb-4ddd-bb74-bc211ffd5747",
     "showTitle": false,
     "tableResultSettingsMap": {},
     "title": ""
    }
   },
   "source": [
    "## Aggregation 4"
   ]
  },
  {
   "cell_type": "code",
   "execution_count": 0,
   "metadata": {
    "application/vnd.databricks.v1+cell": {
     "cellMetadata": {
      "byteLimit": 2048000,
      "rowLimit": 10000
     },
     "inputWidgets": {},
     "nuid": "bce8885e-19e9-4a01-9569-ad5ce79ecace",
     "showTitle": false,
     "tableResultSettingsMap": {},
     "title": ""
    }
   },
   "outputs": [
    {
     "output_type": "display_data",
     "data": {
      "text/html": [
       "<style scoped>\n",
       "  .table-result-container {\n",
       "    max-height: 300px;\n",
       "    overflow: auto;\n",
       "  }\n",
       "  table, th, td {\n",
       "    border: 1px solid black;\n",
       "    border-collapse: collapse;\n",
       "  }\n",
       "  th, td {\n",
       "    padding: 5px;\n",
       "  }\n",
       "  th {\n",
       "    text-align: left;\n",
       "  }\n",
       "</style><div class='table-result-container'><table class='table-result'><thead style='background-color: white'><tr><th>facid</th><th>month</th><th>Total Slots</th></tr></thead><tbody><tr><td>0</td><td>7</td><td>270</td></tr><tr><td>0</td><td>8</td><td>459</td></tr><tr><td>0</td><td>9</td><td>591</td></tr><tr><td>1</td><td>7</td><td>207</td></tr><tr><td>1</td><td>8</td><td>483</td></tr><tr><td>1</td><td>9</td><td>588</td></tr><tr><td>2</td><td>7</td><td>180</td></tr><tr><td>2</td><td>8</td><td>459</td></tr><tr><td>2</td><td>9</td><td>570</td></tr><tr><td>3</td><td>7</td><td>104</td></tr><tr><td>3</td><td>8</td><td>304</td></tr><tr><td>3</td><td>9</td><td>422</td></tr><tr><td>4</td><td>7</td><td>264</td></tr><tr><td>4</td><td>8</td><td>492</td></tr><tr><td>4</td><td>9</td><td>648</td></tr><tr><td>5</td><td>7</td><td>24</td></tr><tr><td>5</td><td>8</td><td>82</td></tr><tr><td>5</td><td>9</td><td>122</td></tr><tr><td>6</td><td>7</td><td>164</td></tr><tr><td>6</td><td>8</td><td>400</td></tr><tr><td>6</td><td>9</td><td>540</td></tr><tr><td>7</td><td>7</td><td>156</td></tr><tr><td>7</td><td>8</td><td>326</td></tr><tr><td>7</td><td>9</td><td>426</td></tr><tr><td>8</td><td>7</td><td>117</td></tr><tr><td>8</td><td>8</td><td>322</td></tr><tr><td>8</td><td>9</td><td>471</td></tr></tbody></table></div>"
      ]
     },
     "metadata": {
      "application/vnd.databricks.v1+output": {
       "addedWidgets": {},
       "aggData": [],
       "aggError": "",
       "aggOverflow": false,
       "aggSchema": [],
       "aggSeriesLimitReached": false,
       "aggType": "",
       "arguments": {},
       "columnCustomDisplayInfos": {},
       "data": [
        [
         0,
         7,
         270
        ],
        [
         0,
         8,
         459
        ],
        [
         0,
         9,
         591
        ],
        [
         1,
         7,
         207
        ],
        [
         1,
         8,
         483
        ],
        [
         1,
         9,
         588
        ],
        [
         2,
         7,
         180
        ],
        [
         2,
         8,
         459
        ],
        [
         2,
         9,
         570
        ],
        [
         3,
         7,
         104
        ],
        [
         3,
         8,
         304
        ],
        [
         3,
         9,
         422
        ],
        [
         4,
         7,
         264
        ],
        [
         4,
         8,
         492
        ],
        [
         4,
         9,
         648
        ],
        [
         5,
         7,
         24
        ],
        [
         5,
         8,
         82
        ],
        [
         5,
         9,
         122
        ],
        [
         6,
         7,
         164
        ],
        [
         6,
         8,
         400
        ],
        [
         6,
         9,
         540
        ],
        [
         7,
         7,
         156
        ],
        [
         7,
         8,
         326
        ],
        [
         7,
         9,
         426
        ],
        [
         8,
         7,
         117
        ],
        [
         8,
         8,
         322
        ],
        [
         8,
         9,
         471
        ]
       ],
       "datasetInfos": [],
       "dbfsResultPath": null,
       "isJsonSchema": true,
       "metadata": {},
       "overflow": false,
       "plotOptions": {
        "customPlotOptions": {},
        "displayType": "table",
        "pivotAggregation": null,
        "pivotColumns": null,
        "xColumns": null,
        "yColumns": null
       },
       "removedWidgets": [],
       "schema": [
        {
         "metadata": "{}",
         "name": "facid",
         "type": "\"integer\""
        },
        {
         "metadata": "{}",
         "name": "month",
         "type": "\"integer\""
        },
        {
         "metadata": "{}",
         "name": "Total Slots",
         "type": "\"long\""
        }
       ],
       "type": "table"
      }
     },
     "output_type": "display_data"
    }
   ],
   "source": [
    "res = bookings.filter(year('starttime') == 2012).withColumn(\"month\", month(\"starttime\")).groupBy(\"facid\", \"month\").sum(\"slots\").withColumnRenamed(\"sum(slots)\",\"Total Slots\").orderBy(\"facid\", \"month\")\n",
    "display(res)"
   ]
  },
  {
   "cell_type": "markdown",
   "metadata": {
    "application/vnd.databricks.v1+cell": {
     "cellMetadata": {
      "byteLimit": 2048000,
      "rowLimit": 10000
     },
     "inputWidgets": {},
     "nuid": "4f0a4a05-0828-4e9d-b71b-2bdb38714a6d",
     "showTitle": false,
     "tableResultSettingsMap": {},
     "title": ""
    }
   },
   "source": [
    "## Aggregation 5"
   ]
  },
  {
   "cell_type": "code",
   "execution_count": 0,
   "metadata": {
    "application/vnd.databricks.v1+cell": {
     "cellMetadata": {
      "byteLimit": 2048000,
      "rowLimit": 10000
     },
     "inputWidgets": {},
     "nuid": "be0a9f8b-79e9-4471-879b-069e8d63f6c6",
     "showTitle": false,
     "tableResultSettingsMap": {},
     "title": ""
    }
   },
   "outputs": [
    {
     "output_type": "display_data",
     "data": {
      "text/html": [
       "<style scoped>\n",
       "  .table-result-container {\n",
       "    max-height: 300px;\n",
       "    overflow: auto;\n",
       "  }\n",
       "  table, th, td {\n",
       "    border: 1px solid black;\n",
       "    border-collapse: collapse;\n",
       "  }\n",
       "  th, td {\n",
       "    padding: 5px;\n",
       "  }\n",
       "  th {\n",
       "    text-align: left;\n",
       "  }\n",
       "</style><div class='table-result-container'><table class='table-result'><thead style='background-color: white'><tr><th>count(DISTINCT memid)</th></tr></thead><tbody><tr><td>30</td></tr></tbody></table></div>"
      ]
     },
     "metadata": {
      "application/vnd.databricks.v1+output": {
       "addedWidgets": {},
       "aggData": [],
       "aggError": "",
       "aggOverflow": false,
       "aggSchema": [],
       "aggSeriesLimitReached": false,
       "aggType": "",
       "arguments": {},
       "columnCustomDisplayInfos": {},
       "data": [
        [
         30
        ]
       ],
       "datasetInfos": [],
       "dbfsResultPath": null,
       "isJsonSchema": true,
       "metadata": {},
       "overflow": false,
       "plotOptions": {
        "customPlotOptions": {},
        "displayType": "table",
        "pivotAggregation": null,
        "pivotColumns": null,
        "xColumns": null,
        "yColumns": null
       },
       "removedWidgets": [],
       "schema": [
        {
         "metadata": "{}",
         "name": "count(DISTINCT memid)",
         "type": "\"long\""
        }
       ],
       "type": "table"
      }
     },
     "output_type": "display_data"
    }
   ],
   "source": [
    "res = bookings.select(countDistinct(bookings.memid))\n",
    "display(res)"
   ]
  },
  {
   "cell_type": "markdown",
   "metadata": {
    "application/vnd.databricks.v1+cell": {
     "cellMetadata": {
      "byteLimit": 2048000,
      "rowLimit": 10000
     },
     "inputWidgets": {},
     "nuid": "2b69eaaa-941f-4ca4-bbbf-1e52f763015f",
     "showTitle": false,
     "tableResultSettingsMap": {},
     "title": ""
    }
   },
   "source": [
    "## Aggregation 6"
   ]
  },
  {
   "cell_type": "code",
   "execution_count": 0,
   "metadata": {
    "application/vnd.databricks.v1+cell": {
     "cellMetadata": {
      "byteLimit": 2048000,
      "rowLimit": 10000
     },
     "inputWidgets": {},
     "nuid": "3b2334d8-5956-46c5-8777-0faa1815a515",
     "showTitle": false,
     "tableResultSettingsMap": {},
     "title": ""
    }
   },
   "outputs": [
    {
     "output_type": "display_data",
     "data": {
      "text/html": [
       "<style scoped>\n",
       "  .table-result-container {\n",
       "    max-height: 300px;\n",
       "    overflow: auto;\n",
       "  }\n",
       "  table, th, td {\n",
       "    border: 1px solid black;\n",
       "    border-collapse: collapse;\n",
       "  }\n",
       "  th, td {\n",
       "    padding: 5px;\n",
       "  }\n",
       "  th {\n",
       "    text-align: left;\n",
       "  }\n",
       "</style><div class='table-result-container'><table class='table-result'><thead style='background-color: white'><tr><th>surname</th><th>firstname</th><th>memid</th><th>starttime</th></tr></thead><tbody><tr><td>GUEST</td><td>GUEST</td><td>0</td><td>2012-09-01T08:00:00.000+0000</td></tr><tr><td>Smith</td><td>Darren</td><td>1</td><td>2012-09-01T09:00:00.000+0000</td></tr><tr><td>Smith</td><td>Tracy</td><td>2</td><td>2012-09-01T11:30:00.000+0000</td></tr><tr><td>Rownam</td><td>Tim</td><td>3</td><td>2012-09-01T16:00:00.000+0000</td></tr><tr><td>Joplette</td><td>Janice</td><td>4</td><td>2012-09-01T15:00:00.000+0000</td></tr><tr><td>Butters</td><td>Gerald</td><td>5</td><td>2012-09-02T12:30:00.000+0000</td></tr><tr><td>Tracy</td><td>Burton</td><td>6</td><td>2012-09-01T15:00:00.000+0000</td></tr><tr><td>Dare</td><td>Nancy</td><td>7</td><td>2012-09-01T12:30:00.000+0000</td></tr><tr><td>Boothe</td><td>Tim</td><td>8</td><td>2012-09-01T08:30:00.000+0000</td></tr><tr><td>Stibbons</td><td>Ponder</td><td>9</td><td>2012-09-01T11:00:00.000+0000</td></tr><tr><td>Owen</td><td>Charles</td><td>10</td><td>2012-09-01T11:00:00.000+0000</td></tr><tr><td>Jones</td><td>David</td><td>11</td><td>2012-09-01T09:30:00.000+0000</td></tr><tr><td>Baker</td><td>Anne</td><td>12</td><td>2012-09-01T14:30:00.000+0000</td></tr><tr><td>Farrell</td><td>Jemima</td><td>13</td><td>2012-09-01T09:30:00.000+0000</td></tr><tr><td>Smith</td><td>Jack</td><td>14</td><td>2012-09-01T11:00:00.000+0000</td></tr><tr><td>Bader</td><td>Florence</td><td>15</td><td>2012-09-01T10:30:00.000+0000</td></tr><tr><td>Baker</td><td>Timothy</td><td>16</td><td>2012-09-01T15:00:00.000+0000</td></tr><tr><td>Pinker</td><td>David</td><td>17</td><td>2012-09-01T08:30:00.000+0000</td></tr><tr><td>Genting</td><td>Matthew</td><td>20</td><td>2012-09-01T18:00:00.000+0000</td></tr><tr><td>Mackenzie</td><td>Anna</td><td>21</td><td>2012-09-01T08:30:00.000+0000</td></tr><tr><td>Coplin</td><td>Joan</td><td>22</td><td>2012-09-02T11:30:00.000+0000</td></tr><tr><td>Sarwin</td><td>Ramnaresh</td><td>24</td><td>2012-09-04T11:00:00.000+0000</td></tr><tr><td>Jones</td><td>Douglas</td><td>26</td><td>2012-09-08T13:00:00.000+0000</td></tr><tr><td>Rumney</td><td>Henrietta</td><td>27</td><td>2012-09-16T13:30:00.000+0000</td></tr><tr><td>Farrell</td><td>David</td><td>28</td><td>2012-09-18T09:00:00.000+0000</td></tr><tr><td>Worthington-Smyth</td><td>Henry</td><td>29</td><td>2012-09-19T09:30:00.000+0000</td></tr><tr><td>Purview</td><td>Millicent</td><td>30</td><td>2012-09-19T11:30:00.000+0000</td></tr><tr><td>Tupperware</td><td>Hyacinth</td><td>33</td><td>2012-09-20T08:00:00.000+0000</td></tr><tr><td>Hunt</td><td>John</td><td>35</td><td>2012-09-23T14:00:00.000+0000</td></tr><tr><td>Crumpet</td><td>Erica</td><td>36</td><td>2012-09-27T11:30:00.000+0000</td></tr></tbody></table></div>"
      ]
     },
     "metadata": {
      "application/vnd.databricks.v1+output": {
       "addedWidgets": {},
       "aggData": [],
       "aggError": "",
       "aggOverflow": false,
       "aggSchema": [],
       "aggSeriesLimitReached": false,
       "aggType": "",
       "arguments": {},
       "columnCustomDisplayInfos": {},
       "data": [
        [
         "GUEST",
         "GUEST",
         0,
         "2012-09-01T08:00:00.000+0000"
        ],
        [
         "Smith",
         "Darren",
         1,
         "2012-09-01T09:00:00.000+0000"
        ],
        [
         "Smith",
         "Tracy",
         2,
         "2012-09-01T11:30:00.000+0000"
        ],
        [
         "Rownam",
         "Tim",
         3,
         "2012-09-01T16:00:00.000+0000"
        ],
        [
         "Joplette",
         "Janice",
         4,
         "2012-09-01T15:00:00.000+0000"
        ],
        [
         "Butters",
         "Gerald",
         5,
         "2012-09-02T12:30:00.000+0000"
        ],
        [
         "Tracy",
         "Burton",
         6,
         "2012-09-01T15:00:00.000+0000"
        ],
        [
         "Dare",
         "Nancy",
         7,
         "2012-09-01T12:30:00.000+0000"
        ],
        [
         "Boothe",
         "Tim",
         8,
         "2012-09-01T08:30:00.000+0000"
        ],
        [
         "Stibbons",
         "Ponder",
         9,
         "2012-09-01T11:00:00.000+0000"
        ],
        [
         "Owen",
         "Charles",
         10,
         "2012-09-01T11:00:00.000+0000"
        ],
        [
         "Jones",
         "David",
         11,
         "2012-09-01T09:30:00.000+0000"
        ],
        [
         "Baker",
         "Anne",
         12,
         "2012-09-01T14:30:00.000+0000"
        ],
        [
         "Farrell",
         "Jemima",
         13,
         "2012-09-01T09:30:00.000+0000"
        ],
        [
         "Smith",
         "Jack",
         14,
         "2012-09-01T11:00:00.000+0000"
        ],
        [
         "Bader",
         "Florence",
         15,
         "2012-09-01T10:30:00.000+0000"
        ],
        [
         "Baker",
         "Timothy",
         16,
         "2012-09-01T15:00:00.000+0000"
        ],
        [
         "Pinker",
         "David",
         17,
         "2012-09-01T08:30:00.000+0000"
        ],
        [
         "Genting",
         "Matthew",
         20,
         "2012-09-01T18:00:00.000+0000"
        ],
        [
         "Mackenzie",
         "Anna",
         21,
         "2012-09-01T08:30:00.000+0000"
        ],
        [
         "Coplin",
         "Joan",
         22,
         "2012-09-02T11:30:00.000+0000"
        ],
        [
         "Sarwin",
         "Ramnaresh",
         24,
         "2012-09-04T11:00:00.000+0000"
        ],
        [
         "Jones",
         "Douglas",
         26,
         "2012-09-08T13:00:00.000+0000"
        ],
        [
         "Rumney",
         "Henrietta",
         27,
         "2012-09-16T13:30:00.000+0000"
        ],
        [
         "Farrell",
         "David",
         28,
         "2012-09-18T09:00:00.000+0000"
        ],
        [
         "Worthington-Smyth",
         "Henry",
         29,
         "2012-09-19T09:30:00.000+0000"
        ],
        [
         "Purview",
         "Millicent",
         30,
         "2012-09-19T11:30:00.000+0000"
        ],
        [
         "Tupperware",
         "Hyacinth",
         33,
         "2012-09-20T08:00:00.000+0000"
        ],
        [
         "Hunt",
         "John",
         35,
         "2012-09-23T14:00:00.000+0000"
        ],
        [
         "Crumpet",
         "Erica",
         36,
         "2012-09-27T11:30:00.000+0000"
        ]
       ],
       "datasetInfos": [],
       "dbfsResultPath": null,
       "isJsonSchema": true,
       "metadata": {},
       "overflow": false,
       "plotOptions": {
        "customPlotOptions": {},
        "displayType": "table",
        "pivotAggregation": null,
        "pivotColumns": null,
        "xColumns": null,
        "yColumns": null
       },
       "removedWidgets": [],
       "schema": [
        {
         "metadata": "{}",
         "name": "surname",
         "type": "\"string\""
        },
        {
         "metadata": "{}",
         "name": "firstname",
         "type": "\"string\""
        },
        {
         "metadata": "{}",
         "name": "memid",
         "type": "\"integer\""
        },
        {
         "metadata": "{}",
         "name": "starttime",
         "type": "\"timestamp\""
        }
       ],
       "type": "table"
      }
     },
     "output_type": "display_data"
    }
   ],
   "source": [
    "sub = bookings.filter(col(\"starttime\") >= \"2012-09-01\").groupBy(\"memid\").agg(min(\"starttime\")).withColumnRenamed(\"min(starttime)\", \"starttime\")\n",
    "res = members.join(sub, members.memid == sub.memid).select(\"surname\", \"firstname\", \"members.memid\", \"starttime\").orderBy(\"memid\")\n",
    "display(res)"
   ]
  },
  {
   "cell_type": "markdown",
   "metadata": {
    "application/vnd.databricks.v1+cell": {
     "cellMetadata": {
      "byteLimit": 2048000,
      "rowLimit": 10000
     },
     "inputWidgets": {},
     "nuid": "4eaa29e8-570b-4fc2-9a79-9a6e93472666",
     "showTitle": false,
     "tableResultSettingsMap": {},
     "title": ""
    }
   },
   "source": [
    "## String & Date 1"
   ]
  },
  {
   "cell_type": "code",
   "execution_count": 0,
   "metadata": {
    "application/vnd.databricks.v1+cell": {
     "cellMetadata": {
      "byteLimit": 2048000,
      "rowLimit": 10000
     },
     "inputWidgets": {},
     "nuid": "db7fea30-1326-4d5e-bc76-b17c85a7213d",
     "showTitle": false,
     "tableResultSettingsMap": {},
     "title": ""
    }
   },
   "outputs": [
    {
     "output_type": "display_data",
     "data": {
      "text/html": [
       "<style scoped>\n",
       "  .table-result-container {\n",
       "    max-height: 300px;\n",
       "    overflow: auto;\n",
       "  }\n",
       "  table, th, td {\n",
       "    border: 1px solid black;\n",
       "    border-collapse: collapse;\n",
       "  }\n",
       "  th, td {\n",
       "    padding: 5px;\n",
       "  }\n",
       "  th {\n",
       "    text-align: left;\n",
       "  }\n",
       "</style><div class='table-result-container'><table class='table-result'><thead style='background-color: white'><tr><th>concat(surname, , , firstname)</th></tr></thead><tbody><tr><td>GUEST, GUEST</td></tr><tr><td>Smith, Darren</td></tr><tr><td>Smith, Tracy</td></tr><tr><td>Rownam, Tim</td></tr><tr><td>Joplette, Janice</td></tr><tr><td>Butters, Gerald</td></tr><tr><td>Tracy, Burton</td></tr><tr><td>Dare, Nancy</td></tr><tr><td>Boothe, Tim</td></tr><tr><td>Stibbons, Ponder</td></tr><tr><td>Owen, Charles</td></tr><tr><td>Jones, David</td></tr><tr><td>Baker, Anne</td></tr><tr><td>Farrell, Jemima</td></tr><tr><td>Smith, Jack</td></tr><tr><td>Bader, Florence</td></tr><tr><td>Baker, Timothy</td></tr><tr><td>Pinker, David</td></tr><tr><td>Genting, Matthew</td></tr><tr><td>Mackenzie, Anna</td></tr><tr><td>Coplin, Joan</td></tr><tr><td>Sarwin, Ramnaresh</td></tr><tr><td>Jones, Douglas</td></tr><tr><td>Rumney, Henrietta</td></tr><tr><td>Farrell, David</td></tr><tr><td>Worthington-Smyth, Henry</td></tr><tr><td>Purview, Millicent</td></tr><tr><td>Tupperware, Hyacinth</td></tr><tr><td>Hunt, John</td></tr><tr><td>Crumpet, Erica</td></tr><tr><td>Smith, Darren</td></tr></tbody></table></div>"
      ]
     },
     "metadata": {
      "application/vnd.databricks.v1+output": {
       "addedWidgets": {},
       "aggData": [],
       "aggError": "",
       "aggOverflow": false,
       "aggSchema": [],
       "aggSeriesLimitReached": false,
       "aggType": "",
       "arguments": {},
       "columnCustomDisplayInfos": {},
       "data": [
        [
         "GUEST, GUEST"
        ],
        [
         "Smith, Darren"
        ],
        [
         "Smith, Tracy"
        ],
        [
         "Rownam, Tim"
        ],
        [
         "Joplette, Janice"
        ],
        [
         "Butters, Gerald"
        ],
        [
         "Tracy, Burton"
        ],
        [
         "Dare, Nancy"
        ],
        [
         "Boothe, Tim"
        ],
        [
         "Stibbons, Ponder"
        ],
        [
         "Owen, Charles"
        ],
        [
         "Jones, David"
        ],
        [
         "Baker, Anne"
        ],
        [
         "Farrell, Jemima"
        ],
        [
         "Smith, Jack"
        ],
        [
         "Bader, Florence"
        ],
        [
         "Baker, Timothy"
        ],
        [
         "Pinker, David"
        ],
        [
         "Genting, Matthew"
        ],
        [
         "Mackenzie, Anna"
        ],
        [
         "Coplin, Joan"
        ],
        [
         "Sarwin, Ramnaresh"
        ],
        [
         "Jones, Douglas"
        ],
        [
         "Rumney, Henrietta"
        ],
        [
         "Farrell, David"
        ],
        [
         "Worthington-Smyth, Henry"
        ],
        [
         "Purview, Millicent"
        ],
        [
         "Tupperware, Hyacinth"
        ],
        [
         "Hunt, John"
        ],
        [
         "Crumpet, Erica"
        ],
        [
         "Smith, Darren"
        ]
       ],
       "datasetInfos": [],
       "dbfsResultPath": null,
       "isJsonSchema": true,
       "metadata": {},
       "overflow": false,
       "plotOptions": {
        "customPlotOptions": {},
        "displayType": "table",
        "pivotAggregation": null,
        "pivotColumns": null,
        "xColumns": null,
        "yColumns": null
       },
       "removedWidgets": [],
       "schema": [
        {
         "metadata": "{}",
         "name": "concat(surname, , , firstname)",
         "type": "\"string\""
        }
       ],
       "type": "table"
      }
     },
     "output_type": "display_data"
    }
   ],
   "source": [
    "res = members.select(concat(\"surname\", lit(\", \"), \"firstname\"))\n",
    "display(res)"
   ]
  },
  {
   "cell_type": "markdown",
   "metadata": {
    "application/vnd.databricks.v1+cell": {
     "cellMetadata": {
      "byteLimit": 2048000,
      "rowLimit": 10000
     },
     "inputWidgets": {},
     "nuid": "ec4c0943-e460-499f-b957-7c03f5dd1ed5",
     "showTitle": false,
     "tableResultSettingsMap": {},
     "title": ""
    }
   },
   "source": [
    "## String & Date 2"
   ]
  },
  {
   "cell_type": "code",
   "execution_count": 0,
   "metadata": {
    "application/vnd.databricks.v1+cell": {
     "cellMetadata": {
      "byteLimit": 2048000,
      "rowLimit": 10000
     },
     "inputWidgets": {},
     "nuid": "4ec4cd2d-f754-42b2-9893-b63db893318c",
     "showTitle": false,
     "tableResultSettingsMap": {},
     "title": ""
    }
   },
   "outputs": [
    {
     "output_type": "display_data",
     "data": {
      "text/html": [
       "<style scoped>\n",
       "  .table-result-container {\n",
       "    max-height: 300px;\n",
       "    overflow: auto;\n",
       "  }\n",
       "  table, th, td {\n",
       "    border: 1px solid black;\n",
       "    border-collapse: collapse;\n",
       "  }\n",
       "  th, td {\n",
       "    padding: 5px;\n",
       "  }\n",
       "  th {\n",
       "    text-align: left;\n",
       "  }\n",
       "</style><div class='table-result-container'><table class='table-result'><thead style='background-color: white'><tr><th>facid</th><th>name</th><th>membercost</th><th>guestcost</th><th>initialoutlay</th><th>monthlymaintenance</th></tr></thead><tbody><tr><td>0</td><td>Tennis Court 1</td><td>5.00</td><td>25.00</td><td>10000.00</td><td>200.00</td></tr><tr><td>1</td><td>Tennis Court 2</td><td>5.00</td><td>25.00</td><td>8000.00</td><td>200.00</td></tr></tbody></table></div>"
      ]
     },
     "metadata": {
      "application/vnd.databricks.v1+output": {
       "addedWidgets": {},
       "aggData": [],
       "aggError": "",
       "aggOverflow": false,
       "aggSchema": [],
       "aggSeriesLimitReached": false,
       "aggType": "",
       "arguments": {},
       "columnCustomDisplayInfos": {},
       "data": [
        [
         0,
         "Tennis Court 1",
         "5.00",
         "25.00",
         "10000.00",
         "200.00"
        ],
        [
         1,
         "Tennis Court 2",
         "5.00",
         "25.00",
         "8000.00",
         "200.00"
        ]
       ],
       "datasetInfos": [],
       "dbfsResultPath": null,
       "isJsonSchema": true,
       "metadata": {},
       "overflow": false,
       "plotOptions": {
        "customPlotOptions": {},
        "displayType": "table",
        "pivotAggregation": null,
        "pivotColumns": null,
        "xColumns": null,
        "yColumns": null
       },
       "removedWidgets": [],
       "schema": [
        {
         "metadata": "{}",
         "name": "facid",
         "type": "\"integer\""
        },
        {
         "metadata": "{}",
         "name": "name",
         "type": "\"string\""
        },
        {
         "metadata": "{}",
         "name": "membercost",
         "type": "\"decimal(10,2)\""
        },
        {
         "metadata": "{}",
         "name": "guestcost",
         "type": "\"decimal(10,2)\""
        },
        {
         "metadata": "{}",
         "name": "initialoutlay",
         "type": "\"decimal(10,2)\""
        },
        {
         "metadata": "{}",
         "name": "monthlymaintenance",
         "type": "\"decimal(10,2)\""
        }
       ],
       "type": "table"
      }
     },
     "output_type": "display_data"
    }
   ],
   "source": [
    "res = facilities.filter(col(\"name\").rlike(\"(?i)^tennis\"))\n",
    "\n",
    "display(res)"
   ]
  },
  {
   "cell_type": "markdown",
   "metadata": {
    "application/vnd.databricks.v1+cell": {
     "cellMetadata": {
      "byteLimit": 2048000,
      "rowLimit": 10000
     },
     "inputWidgets": {},
     "nuid": "5ae4b3b0-d7d5-4b19-81a5-4bff61c2f3c0",
     "showTitle": false,
     "tableResultSettingsMap": {},
     "title": ""
    }
   },
   "source": [
    "## String & Date 3"
   ]
  },
  {
   "cell_type": "code",
   "execution_count": 0,
   "metadata": {
    "application/vnd.databricks.v1+cell": {
     "cellMetadata": {
      "byteLimit": 2048000,
      "rowLimit": 10000
     },
     "inputWidgets": {},
     "nuid": "bd5d29db-75c2-4d6b-b19c-22accad5b40a",
     "showTitle": false,
     "tableResultSettingsMap": {},
     "title": ""
    }
   },
   "outputs": [
    {
     "output_type": "display_data",
     "data": {
      "text/html": [
       "<style scoped>\n",
       "  .table-result-container {\n",
       "    max-height: 300px;\n",
       "    overflow: auto;\n",
       "  }\n",
       "  table, th, td {\n",
       "    border: 1px solid black;\n",
       "    border-collapse: collapse;\n",
       "  }\n",
       "  th, td {\n",
       "    padding: 5px;\n",
       "  }\n",
       "  th {\n",
       "    text-align: left;\n",
       "  }\n",
       "</style><div class='table-result-container'><table class='table-result'><thead style='background-color: white'><tr><th>memid</th><th>telephone</th></tr></thead><tbody><tr><td>0</td><td>(000) 000-0000</td></tr><tr><td>3</td><td>(844) 693-0723</td></tr><tr><td>4</td><td>(833) 942-4710</td></tr><tr><td>5</td><td>(844) 078-4130</td></tr><tr><td>6</td><td>(822) 354-9973</td></tr><tr><td>7</td><td>(833) 776-4001</td></tr><tr><td>8</td><td>(811) 433-2547</td></tr><tr><td>9</td><td>(833) 160-3900</td></tr><tr><td>10</td><td>(855) 542-5251</td></tr><tr><td>11</td><td>(844) 536-8036</td></tr><tr><td>13</td><td>(855) 016-0163</td></tr><tr><td>14</td><td>(822) 163-3254</td></tr><tr><td>15</td><td>(833) 499-3527</td></tr><tr><td>20</td><td>(811) 972-1377</td></tr><tr><td>21</td><td>(822) 661-2898</td></tr><tr><td>22</td><td>(822) 499-2232</td></tr><tr><td>24</td><td>(822) 413-1470</td></tr><tr><td>27</td><td>(822) 989-8876</td></tr><tr><td>28</td><td>(855) 755-9876</td></tr><tr><td>29</td><td>(855) 894-3758</td></tr><tr><td>30</td><td>(855) 941-9786</td></tr><tr><td>33</td><td>(822) 665-5327</td></tr><tr><td>35</td><td>(899) 720-6978</td></tr><tr><td>36</td><td>(811) 732-4816</td></tr><tr><td>37</td><td>(822) 577-3541</td></tr></tbody></table></div>"
      ]
     },
     "metadata": {
      "application/vnd.databricks.v1+output": {
       "addedWidgets": {},
       "aggData": [],
       "aggError": "",
       "aggOverflow": false,
       "aggSchema": [],
       "aggSeriesLimitReached": false,
       "aggType": "",
       "arguments": {},
       "columnCustomDisplayInfos": {},
       "data": [
        [
         0,
         "(000) 000-0000"
        ],
        [
         3,
         "(844) 693-0723"
        ],
        [
         4,
         "(833) 942-4710"
        ],
        [
         5,
         "(844) 078-4130"
        ],
        [
         6,
         "(822) 354-9973"
        ],
        [
         7,
         "(833) 776-4001"
        ],
        [
         8,
         "(811) 433-2547"
        ],
        [
         9,
         "(833) 160-3900"
        ],
        [
         10,
         "(855) 542-5251"
        ],
        [
         11,
         "(844) 536-8036"
        ],
        [
         13,
         "(855) 016-0163"
        ],
        [
         14,
         "(822) 163-3254"
        ],
        [
         15,
         "(833) 499-3527"
        ],
        [
         20,
         "(811) 972-1377"
        ],
        [
         21,
         "(822) 661-2898"
        ],
        [
         22,
         "(822) 499-2232"
        ],
        [
         24,
         "(822) 413-1470"
        ],
        [
         27,
         "(822) 989-8876"
        ],
        [
         28,
         "(855) 755-9876"
        ],
        [
         29,
         "(855) 894-3758"
        ],
        [
         30,
         "(855) 941-9786"
        ],
        [
         33,
         "(822) 665-5327"
        ],
        [
         35,
         "(899) 720-6978"
        ],
        [
         36,
         "(811) 732-4816"
        ],
        [
         37,
         "(822) 577-3541"
        ]
       ],
       "datasetInfos": [],
       "dbfsResultPath": null,
       "isJsonSchema": true,
       "metadata": {},
       "overflow": false,
       "plotOptions": {
        "customPlotOptions": {},
        "displayType": "table",
        "pivotAggregation": null,
        "pivotColumns": null,
        "xColumns": null,
        "yColumns": null
       },
       "removedWidgets": [],
       "schema": [
        {
         "metadata": "{}",
         "name": "memid",
         "type": "\"integer\""
        },
        {
         "metadata": "{}",
         "name": "telephone",
         "type": "\"string\""
        }
       ],
       "type": "table"
      }
     },
     "output_type": "display_data"
    }
   ],
   "source": [
    "res = members.filter(col(\"telephone\").rlike(\"[()]\")).select(\"memid\", \"telephone\").orderBy(\"memid\")\n",
    "display(res)"
   ]
  },
  {
   "cell_type": "markdown",
   "metadata": {
    "application/vnd.databricks.v1+cell": {
     "cellMetadata": {
      "byteLimit": 2048000,
      "rowLimit": 10000
     },
     "inputWidgets": {},
     "nuid": "0c88862d-e587-4c06-939e-cb416c780338",
     "showTitle": false,
     "tableResultSettingsMap": {},
     "title": ""
    }
   },
   "source": [
    "## String & Date 4"
   ]
  },
  {
   "cell_type": "code",
   "execution_count": 0,
   "metadata": {
    "application/vnd.databricks.v1+cell": {
     "cellMetadata": {
      "byteLimit": 2048000,
      "rowLimit": 10000
     },
     "inputWidgets": {},
     "nuid": "067ddb85-4af7-448c-bec7-8ee25c15e970",
     "showTitle": false,
     "tableResultSettingsMap": {},
     "title": ""
    }
   },
   "outputs": [
    {
     "output_type": "display_data",
     "data": {
      "text/html": [
       "<style scoped>\n",
       "  .table-result-container {\n",
       "    max-height: 300px;\n",
       "    overflow: auto;\n",
       "  }\n",
       "  table, th, td {\n",
       "    border: 1px solid black;\n",
       "    border-collapse: collapse;\n",
       "  }\n",
       "  th, td {\n",
       "    padding: 5px;\n",
       "  }\n",
       "  th {\n",
       "    text-align: left;\n",
       "  }\n",
       "</style><div class='table-result-container'><table class='table-result'><thead style='background-color: white'><tr><th>letter</th><th>count</th></tr></thead><tbody><tr><td>B</td><td>5</td></tr><tr><td>C</td><td>2</td></tr><tr><td>D</td><td>1</td></tr><tr><td>F</td><td>2</td></tr><tr><td>G</td><td>2</td></tr><tr><td>H</td><td>1</td></tr><tr><td>J</td><td>3</td></tr><tr><td>M</td><td>1</td></tr><tr><td>O</td><td>1</td></tr><tr><td>P</td><td>2</td></tr><tr><td>R</td><td>2</td></tr><tr><td>S</td><td>6</td></tr><tr><td>T</td><td>2</td></tr><tr><td>W</td><td>1</td></tr></tbody></table></div>"
      ]
     },
     "metadata": {
      "application/vnd.databricks.v1+output": {
       "addedWidgets": {},
       "aggData": [],
       "aggError": "",
       "aggOverflow": false,
       "aggSchema": [],
       "aggSeriesLimitReached": false,
       "aggType": "",
       "arguments": {},
       "columnCustomDisplayInfos": {},
       "data": [
        [
         "B",
         5
        ],
        [
         "C",
         2
        ],
        [
         "D",
         1
        ],
        [
         "F",
         2
        ],
        [
         "G",
         2
        ],
        [
         "H",
         1
        ],
        [
         "J",
         3
        ],
        [
         "M",
         1
        ],
        [
         "O",
         1
        ],
        [
         "P",
         2
        ],
        [
         "R",
         2
        ],
        [
         "S",
         6
        ],
        [
         "T",
         2
        ],
        [
         "W",
         1
        ]
       ],
       "datasetInfos": [],
       "dbfsResultPath": null,
       "isJsonSchema": true,
       "metadata": {},
       "overflow": false,
       "plotOptions": {
        "customPlotOptions": {},
        "displayType": "table",
        "pivotAggregation": null,
        "pivotColumns": null,
        "xColumns": null,
        "yColumns": null
       },
       "removedWidgets": [],
       "schema": [
        {
         "metadata": "{}",
         "name": "letter",
         "type": "\"string\""
        },
        {
         "metadata": "{}",
         "name": "count",
         "type": "\"long\""
        }
       ],
       "type": "table"
      }
     },
     "output_type": "display_data"
    }
   ],
   "source": [
    "res = members.withColumn(\"letter\", substring(\"surname\", 0, 1)).groupBy(\"letter\").count().orderBy(\"letter\")\n",
    "display(res)"
   ]
  },
  {
   "cell_type": "markdown",
   "metadata": {
    "application/vnd.databricks.v1+cell": {
     "cellMetadata": {
      "byteLimit": 2048000,
      "rowLimit": 10000
     },
     "inputWidgets": {},
     "nuid": "05ae4790-13fb-4d44-9dd5-21b57e080ad1",
     "showTitle": false,
     "tableResultSettingsMap": {},
     "title": ""
    }
   },
   "source": [
    "## String & Date 5"
   ]
  },
  {
   "cell_type": "code",
   "execution_count": 0,
   "metadata": {
    "application/vnd.databricks.v1+cell": {
     "cellMetadata": {
      "byteLimit": 2048000,
      "rowLimit": 10000
     },
     "inputWidgets": {},
     "nuid": "f9d98885-abbd-47ee-bfc9-4524673498a7",
     "showTitle": false,
     "tableResultSettingsMap": {},
     "title": ""
    }
   },
   "outputs": [
    {
     "output_type": "display_data",
     "data": {
      "text/html": [
       "<style scoped>\n",
       "  .table-result-container {\n",
       "    max-height: 300px;\n",
       "    overflow: auto;\n",
       "  }\n",
       "  table, th, td {\n",
       "    border: 1px solid black;\n",
       "    border-collapse: collapse;\n",
       "  }\n",
       "  th, td {\n",
       "    padding: 5px;\n",
       "  }\n",
       "  th {\n",
       "    text-align: left;\n",
       "  }\n",
       "</style><div class='table-result-container'><table class='table-result'><thead style='background-color: white'><tr><th>ts</th></tr></thead><tbody><tr><td>2012-10-01</td></tr><tr><td>2012-10-02</td></tr><tr><td>2012-10-03</td></tr><tr><td>2012-10-04</td></tr><tr><td>2012-10-05</td></tr><tr><td>2012-10-06</td></tr><tr><td>2012-10-07</td></tr><tr><td>2012-10-08</td></tr><tr><td>2012-10-09</td></tr><tr><td>2012-10-10</td></tr><tr><td>2012-10-11</td></tr><tr><td>2012-10-12</td></tr><tr><td>2012-10-13</td></tr><tr><td>2012-10-14</td></tr><tr><td>2012-10-15</td></tr><tr><td>2012-10-16</td></tr><tr><td>2012-10-17</td></tr><tr><td>2012-10-18</td></tr><tr><td>2012-10-19</td></tr><tr><td>2012-10-20</td></tr><tr><td>2012-10-21</td></tr><tr><td>2012-10-22</td></tr><tr><td>2012-10-23</td></tr><tr><td>2012-10-24</td></tr><tr><td>2012-10-25</td></tr><tr><td>2012-10-26</td></tr><tr><td>2012-10-27</td></tr><tr><td>2012-10-28</td></tr><tr><td>2012-10-29</td></tr><tr><td>2012-10-30</td></tr><tr><td>2012-10-31</td></tr></tbody></table></div>"
      ]
     },
     "metadata": {
      "application/vnd.databricks.v1+output": {
       "addedWidgets": {},
       "aggData": [],
       "aggError": "",
       "aggOverflow": false,
       "aggSchema": [],
       "aggSeriesLimitReached": false,
       "aggType": "",
       "arguments": {},
       "columnCustomDisplayInfos": {},
       "data": [
        [
         "2012-10-01"
        ],
        [
         "2012-10-02"
        ],
        [
         "2012-10-03"
        ],
        [
         "2012-10-04"
        ],
        [
         "2012-10-05"
        ],
        [
         "2012-10-06"
        ],
        [
         "2012-10-07"
        ],
        [
         "2012-10-08"
        ],
        [
         "2012-10-09"
        ],
        [
         "2012-10-10"
        ],
        [
         "2012-10-11"
        ],
        [
         "2012-10-12"
        ],
        [
         "2012-10-13"
        ],
        [
         "2012-10-14"
        ],
        [
         "2012-10-15"
        ],
        [
         "2012-10-16"
        ],
        [
         "2012-10-17"
        ],
        [
         "2012-10-18"
        ],
        [
         "2012-10-19"
        ],
        [
         "2012-10-20"
        ],
        [
         "2012-10-21"
        ],
        [
         "2012-10-22"
        ],
        [
         "2012-10-23"
        ],
        [
         "2012-10-24"
        ],
        [
         "2012-10-25"
        ],
        [
         "2012-10-26"
        ],
        [
         "2012-10-27"
        ],
        [
         "2012-10-28"
        ],
        [
         "2012-10-29"
        ],
        [
         "2012-10-30"
        ],
        [
         "2012-10-31"
        ]
       ],
       "datasetInfos": [],
       "dbfsResultPath": null,
       "isJsonSchema": true,
       "metadata": {},
       "overflow": false,
       "plotOptions": {
        "customPlotOptions": {},
        "displayType": "table",
        "pivotAggregation": null,
        "pivotColumns": null,
        "xColumns": null,
        "yColumns": null
       },
       "removedWidgets": [],
       "schema": [
        {
         "metadata": "{}",
         "name": "ts",
         "type": "\"date\""
        }
       ],
       "type": "table"
      }
     },
     "output_type": "display_data"
    }
   ],
   "source": [
    "res = (spark.createDataFrame([{\"date\": 1}])).select(explode(sequence(to_date(lit(\"2012-10-01\")), to_date(lit(\"2012-10-31\")), expr(\"INTERVAL 1 day\"))).alias(\"ts\"))\n",
    "\n",
    "display(res)\n"
   ]
  },
  {
   "cell_type": "markdown",
   "metadata": {
    "application/vnd.databricks.v1+cell": {
     "cellMetadata": {
      "byteLimit": 2048000,
      "rowLimit": 10000
     },
     "inputWidgets": {},
     "nuid": "1e7082c8-b9f9-413d-ba15-be88637c646e",
     "showTitle": false,
     "tableResultSettingsMap": {},
     "title": ""
    }
   },
   "source": [
    "## String & Date 6"
   ]
  },
  {
   "cell_type": "code",
   "execution_count": 0,
   "metadata": {
    "application/vnd.databricks.v1+cell": {
     "cellMetadata": {
      "byteLimit": 2048000,
      "rowLimit": 10000
     },
     "inputWidgets": {},
     "nuid": "2b5671b8-db02-4ef3-9657-96e7a6f8e92f",
     "showTitle": false,
     "tableResultSettingsMap": {},
     "title": ""
    }
   },
   "outputs": [
    {
     "output_type": "display_data",
     "data": {
      "text/html": [
       "<style scoped>\n",
       "  .table-result-container {\n",
       "    max-height: 300px;\n",
       "    overflow: auto;\n",
       "  }\n",
       "  table, th, td {\n",
       "    border: 1px solid black;\n",
       "    border-collapse: collapse;\n",
       "  }\n",
       "  th, td {\n",
       "    padding: 5px;\n",
       "  }\n",
       "  th {\n",
       "    text-align: left;\n",
       "  }\n",
       "</style><div class='table-result-container'><table class='table-result'><thead style='background-color: white'><tr><th>month</th><th>count</th></tr></thead><tbody><tr><td>2012-07-01T00:00:00.000+0000</td><td>658</td></tr><tr><td>2012-08-01T00:00:00.000+0000</td><td>1472</td></tr><tr><td>2012-09-01T00:00:00.000+0000</td><td>1913</td></tr><tr><td>2013-01-01T00:00:00.000+0000</td><td>1</td></tr></tbody></table></div>"
      ]
     },
     "metadata": {
      "application/vnd.databricks.v1+output": {
       "addedWidgets": {},
       "aggData": [],
       "aggError": "",
       "aggOverflow": false,
       "aggSchema": [],
       "aggSeriesLimitReached": false,
       "aggType": "",
       "arguments": {},
       "columnCustomDisplayInfos": {},
       "data": [
        [
         "2012-07-01T00:00:00.000+0000",
         658
        ],
        [
         "2012-08-01T00:00:00.000+0000",
         1472
        ],
        [
         "2012-09-01T00:00:00.000+0000",
         1913
        ],
        [
         "2013-01-01T00:00:00.000+0000",
         1
        ]
       ],
       "datasetInfos": [],
       "dbfsResultPath": null,
       "isJsonSchema": true,
       "metadata": {},
       "overflow": false,
       "plotOptions": {
        "customPlotOptions": {},
        "displayType": "table",
        "pivotAggregation": null,
        "pivotColumns": null,
        "xColumns": null,
        "yColumns": null
       },
       "removedWidgets": [],
       "schema": [
        {
         "metadata": "{}",
         "name": "month",
         "type": "\"timestamp\""
        },
        {
         "metadata": "{}",
         "name": "count",
         "type": "\"long\""
        }
       ],
       "type": "table"
      }
     },
     "output_type": "display_data"
    }
   ],
   "source": [
    "res = bookings.withColumn(\"month\", date_trunc(\"month\", bookings.starttime)).groupBy(\"month\").count().orderBy(\"month\")\n",
    "display(res)"
   ]
  }
 ],
 "metadata": {
  "application/vnd.databricks.v1+notebook": {
   "computePreferences": null,
   "dashboards": [],
   "environmentMetadata": {
    "base_environment": "",
    "environment_version": "1"
   },
   "inputWidgetPreferences": null,
   "language": "python",
   "notebookMetadata": {
    "pythonIndentUnit": 4
   },
   "notebookName": "Spark dataframe",
   "widgets": {}
  }
 },
 "nbformat": 4,
 "nbformat_minor": 0
}
